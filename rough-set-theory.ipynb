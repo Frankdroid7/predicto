{
  "cells": [
    {
      "cell_type": "markdown",
      "metadata": {
        "id": "view-in-github",
        "colab_type": "text"
      },
      "source": [
        "<a href=\"https://colab.research.google.com/github/Frankdroid7/predicto/blob/main/rough-set-theory.ipynb\" target=\"_parent\"><img src=\"https://colab.research.google.com/assets/colab-badge.svg\" alt=\"Open In Colab\"/></a>"
      ]
    },
    {
      "cell_type": "code",
      "execution_count": null,
      "metadata": {
        "id": "kBcHtbAS3sG_",
        "outputId": "a25c6a36-387e-49ea-a76a-bf947149785b"
      },
      "outputs": [
        {
          "name": "stdout",
          "output_type": "stream",
          "text": [
            "Requirement already satisfied: ipywidgets in c:\\users\\muham\\anaconda_3\\lib\\site-packages (7.6.5)\n",
            "Requirement already satisfied: widgetsnbextension~=3.5.0 in c:\\users\\muham\\anaconda_3\\lib\\site-packages (from ipywidgets) (3.5.2)\n",
            "Requirement already satisfied: jupyterlab-widgets>=1.0.0 in c:\\users\\muham\\anaconda_3\\lib\\site-packages (from ipywidgets) (1.0.0)\n",
            "Requirement already satisfied: ipykernel>=4.5.1 in c:\\users\\muham\\anaconda_3\\lib\\site-packages (from ipywidgets) (6.19.2)\n",
            "Requirement already satisfied: traitlets>=4.3.1 in c:\\users\\muham\\anaconda_3\\lib\\site-packages (from ipywidgets) (5.7.1)\n",
            "Requirement already satisfied: ipython>=4.0.0 in c:\\users\\muham\\anaconda_3\\lib\\site-packages (from ipywidgets) (8.10.0)\n",
            "Requirement already satisfied: ipython-genutils~=0.2.0 in c:\\users\\muham\\anaconda_3\\lib\\site-packages (from ipywidgets) (0.2.0)\n",
            "Requirement already satisfied: nbformat>=4.2.0 in c:\\users\\muham\\anaconda_3\\lib\\site-packages (from ipywidgets) (5.7.0)\n",
            "Requirement already satisfied: debugpy>=1.0 in c:\\users\\muham\\anaconda_3\\lib\\site-packages (from ipykernel>=4.5.1->ipywidgets) (1.5.1)\n",
            "Requirement already satisfied: pyzmq>=17 in c:\\users\\muham\\anaconda_3\\lib\\site-packages (from ipykernel>=4.5.1->ipywidgets) (23.2.0)\n",
            "Requirement already satisfied: psutil in c:\\users\\muham\\anaconda_3\\lib\\site-packages (from ipykernel>=4.5.1->ipywidgets) (5.9.0)\n",
            "Requirement already satisfied: matplotlib-inline>=0.1 in c:\\users\\muham\\anaconda_3\\lib\\site-packages (from ipykernel>=4.5.1->ipywidgets) (0.1.6)\n",
            "Requirement already satisfied: tornado>=6.1 in c:\\users\\muham\\anaconda_3\\lib\\site-packages (from ipykernel>=4.5.1->ipywidgets) (6.1)\n",
            "Requirement already satisfied: comm>=0.1.1 in c:\\users\\muham\\anaconda_3\\lib\\site-packages (from ipykernel>=4.5.1->ipywidgets) (0.1.2)\n",
            "Requirement already satisfied: packaging in c:\\users\\muham\\anaconda_3\\lib\\site-packages (from ipykernel>=4.5.1->ipywidgets) (22.0)\n",
            "Requirement already satisfied: nest-asyncio in c:\\users\\muham\\anaconda_3\\lib\\site-packages (from ipykernel>=4.5.1->ipywidgets) (1.5.6)\n",
            "Requirement already satisfied: jupyter-client>=6.1.12 in c:\\users\\muham\\anaconda_3\\lib\\site-packages (from ipykernel>=4.5.1->ipywidgets) (7.3.4)\n",
            "Requirement already satisfied: decorator in c:\\users\\muham\\anaconda_3\\lib\\site-packages (from ipython>=4.0.0->ipywidgets) (5.1.1)\n",
            "Requirement already satisfied: jedi>=0.16 in c:\\users\\muham\\anaconda_3\\lib\\site-packages (from ipython>=4.0.0->ipywidgets) (0.18.1)\n",
            "Requirement already satisfied: colorama in c:\\users\\muham\\anaconda_3\\lib\\site-packages (from ipython>=4.0.0->ipywidgets) (0.4.6)\n",
            "Requirement already satisfied: pickleshare in c:\\users\\muham\\anaconda_3\\lib\\site-packages (from ipython>=4.0.0->ipywidgets) (0.7.5)\n",
            "Requirement already satisfied: backcall in c:\\users\\muham\\anaconda_3\\lib\\site-packages (from ipython>=4.0.0->ipywidgets) (0.2.0)\n",
            "Requirement already satisfied: prompt-toolkit<3.1.0,>=3.0.30 in c:\\users\\muham\\anaconda_3\\lib\\site-packages (from ipython>=4.0.0->ipywidgets) (3.0.36)\n",
            "Requirement already satisfied: pygments>=2.4.0 in c:\\users\\muham\\anaconda_3\\lib\\site-packages (from ipython>=4.0.0->ipywidgets) (2.11.2)\n",
            "Requirement already satisfied: stack-data in c:\\users\\muham\\anaconda_3\\lib\\site-packages (from ipython>=4.0.0->ipywidgets) (0.2.0)\n",
            "Requirement already satisfied: jsonschema>=2.6 in c:\\users\\muham\\anaconda_3\\lib\\site-packages (from nbformat>=4.2.0->ipywidgets) (4.17.3)\n",
            "Requirement already satisfied: jupyter-core in c:\\users\\muham\\anaconda_3\\lib\\site-packages (from nbformat>=4.2.0->ipywidgets) (5.2.0)\n",
            "Requirement already satisfied: fastjsonschema in c:\\users\\muham\\anaconda_3\\lib\\site-packages (from nbformat>=4.2.0->ipywidgets) (2.16.2)\n",
            "Requirement already satisfied: notebook>=4.4.1 in c:\\users\\muham\\anaconda_3\\lib\\site-packages (from widgetsnbextension~=3.5.0->ipywidgets) (6.5.2)\n",
            "Requirement already satisfied: parso<0.9.0,>=0.8.0 in c:\\users\\muham\\anaconda_3\\lib\\site-packages (from jedi>=0.16->ipython>=4.0.0->ipywidgets) (0.8.3)\n",
            "Requirement already satisfied: pyrsistent!=0.17.0,!=0.17.1,!=0.17.2,>=0.14.0 in c:\\users\\muham\\anaconda_3\\lib\\site-packages (from jsonschema>=2.6->nbformat>=4.2.0->ipywidgets) (0.18.0)\n",
            "Requirement already satisfied: attrs>=17.4.0 in c:\\users\\muham\\anaconda_3\\lib\\site-packages (from jsonschema>=2.6->nbformat>=4.2.0->ipywidgets) (22.1.0)\n",
            "Requirement already satisfied: entrypoints in c:\\users\\muham\\anaconda_3\\lib\\site-packages (from jupyter-client>=6.1.12->ipykernel>=4.5.1->ipywidgets) (0.4)\n",
            "Requirement already satisfied: python-dateutil>=2.8.2 in c:\\users\\muham\\anaconda_3\\lib\\site-packages (from jupyter-client>=6.1.12->ipykernel>=4.5.1->ipywidgets) (2.8.2)\n",
            "Requirement already satisfied: platformdirs>=2.5 in c:\\users\\muham\\anaconda_3\\lib\\site-packages (from jupyter-core->nbformat>=4.2.0->ipywidgets) (2.5.2)\n",
            "Requirement already satisfied: pywin32>=1.0 in c:\\users\\muham\\anaconda_3\\lib\\site-packages (from jupyter-core->nbformat>=4.2.0->ipywidgets) (305.1)\n",
            "Requirement already satisfied: Send2Trash>=1.8.0 in c:\\users\\muham\\anaconda_3\\lib\\site-packages (from notebook>=4.4.1->widgetsnbextension~=3.5.0->ipywidgets) (1.8.0)\n",
            "Requirement already satisfied: nbclassic>=0.4.7 in c:\\users\\muham\\anaconda_3\\lib\\site-packages (from notebook>=4.4.1->widgetsnbextension~=3.5.0->ipywidgets) (0.5.2)\n",
            "Requirement already satisfied: argon2-cffi in c:\\users\\muham\\anaconda_3\\lib\\site-packages (from notebook>=4.4.1->widgetsnbextension~=3.5.0->ipywidgets) (21.3.0)\n",
            "Requirement already satisfied: jinja2 in c:\\users\\muham\\anaconda_3\\lib\\site-packages (from notebook>=4.4.1->widgetsnbextension~=3.5.0->ipywidgets) (3.1.2)\n",
            "Requirement already satisfied: terminado>=0.8.3 in c:\\users\\muham\\anaconda_3\\lib\\site-packages (from notebook>=4.4.1->widgetsnbextension~=3.5.0->ipywidgets) (0.17.1)\n",
            "Requirement already satisfied: prometheus-client in c:\\users\\muham\\anaconda_3\\lib\\site-packages (from notebook>=4.4.1->widgetsnbextension~=3.5.0->ipywidgets) (0.14.1)\n",
            "Requirement already satisfied: nbconvert>=5 in c:\\users\\muham\\anaconda_3\\lib\\site-packages (from notebook>=4.4.1->widgetsnbextension~=3.5.0->ipywidgets) (6.5.4)\n",
            "Requirement already satisfied: wcwidth in c:\\users\\muham\\anaconda_3\\lib\\site-packages (from prompt-toolkit<3.1.0,>=3.0.30->ipython>=4.0.0->ipywidgets) (0.2.5)\n",
            "Requirement already satisfied: asttokens in c:\\users\\muham\\anaconda_3\\lib\\site-packages (from stack-data->ipython>=4.0.0->ipywidgets) (2.0.5)\n",
            "Requirement already satisfied: executing in c:\\users\\muham\\anaconda_3\\lib\\site-packages (from stack-data->ipython>=4.0.0->ipywidgets) (0.8.3)\n",
            "Requirement already satisfied: pure-eval in c:\\users\\muham\\anaconda_3\\lib\\site-packages (from stack-data->ipython>=4.0.0->ipywidgets) (0.2.2)\n",
            "Requirement already satisfied: jupyter-server>=1.8 in c:\\users\\muham\\anaconda_3\\lib\\site-packages (from nbclassic>=0.4.7->notebook>=4.4.1->widgetsnbextension~=3.5.0->ipywidgets) (1.23.4)\n",
            "Requirement already satisfied: notebook-shim>=0.1.0 in c:\\users\\muham\\anaconda_3\\lib\\site-packages (from nbclassic>=0.4.7->notebook>=4.4.1->widgetsnbextension~=3.5.0->ipywidgets) (0.2.2)\n",
            "Requirement already satisfied: defusedxml in c:\\users\\muham\\anaconda_3\\lib\\site-packages (from nbconvert>=5->notebook>=4.4.1->widgetsnbextension~=3.5.0->ipywidgets) (0.7.1)\n",
            "Requirement already satisfied: lxml in c:\\users\\muham\\anaconda_3\\lib\\site-packages (from nbconvert>=5->notebook>=4.4.1->widgetsnbextension~=3.5.0->ipywidgets) (4.9.1)\n",
            "Requirement already satisfied: MarkupSafe>=2.0 in c:\\users\\muham\\anaconda_3\\lib\\site-packages (from nbconvert>=5->notebook>=4.4.1->widgetsnbextension~=3.5.0->ipywidgets) (2.1.1)\n",
            "Requirement already satisfied: mistune<2,>=0.8.1 in c:\\users\\muham\\anaconda_3\\lib\\site-packages (from nbconvert>=5->notebook>=4.4.1->widgetsnbextension~=3.5.0->ipywidgets) (0.8.4)\n",
            "Requirement already satisfied: pandocfilters>=1.4.1 in c:\\users\\muham\\anaconda_3\\lib\\site-packages (from nbconvert>=5->notebook>=4.4.1->widgetsnbextension~=3.5.0->ipywidgets) (1.5.0)\n",
            "Requirement already satisfied: beautifulsoup4 in c:\\users\\muham\\anaconda_3\\lib\\site-packages (from nbconvert>=5->notebook>=4.4.1->widgetsnbextension~=3.5.0->ipywidgets) (4.11.1)\n",
            "Requirement already satisfied: bleach in c:\\users\\muham\\anaconda_3\\lib\\site-packages (from nbconvert>=5->notebook>=4.4.1->widgetsnbextension~=3.5.0->ipywidgets) (4.1.0)\n",
            "Requirement already satisfied: jupyterlab-pygments in c:\\users\\muham\\anaconda_3\\lib\\site-packages (from nbconvert>=5->notebook>=4.4.1->widgetsnbextension~=3.5.0->ipywidgets) (0.1.2)\n",
            "Requirement already satisfied: nbclient>=0.5.0 in c:\\users\\muham\\anaconda_3\\lib\\site-packages (from nbconvert>=5->notebook>=4.4.1->widgetsnbextension~=3.5.0->ipywidgets) (0.5.13)\n",
            "Requirement already satisfied: tinycss2 in c:\\users\\muham\\anaconda_3\\lib\\site-packages (from nbconvert>=5->notebook>=4.4.1->widgetsnbextension~=3.5.0->ipywidgets) (1.2.1)\n",
            "Requirement already satisfied: six>=1.5 in c:\\users\\muham\\anaconda_3\\lib\\site-packages (from python-dateutil>=2.8.2->jupyter-client>=6.1.12->ipykernel>=4.5.1->ipywidgets) (1.16.0)\n",
            "Requirement already satisfied: pywinpty>=1.1.0 in c:\\users\\muham\\anaconda_3\\lib\\site-packages (from terminado>=0.8.3->notebook>=4.4.1->widgetsnbextension~=3.5.0->ipywidgets) (2.0.10)\n",
            "Requirement already satisfied: argon2-cffi-bindings in c:\\users\\muham\\anaconda_3\\lib\\site-packages (from argon2-cffi->notebook>=4.4.1->widgetsnbextension~=3.5.0->ipywidgets) (21.2.0)\n",
            "Requirement already satisfied: anyio<4,>=3.1.0 in c:\\users\\muham\\anaconda_3\\lib\\site-packages (from jupyter-server>=1.8->nbclassic>=0.4.7->notebook>=4.4.1->widgetsnbextension~=3.5.0->ipywidgets) (3.5.0)\n",
            "Requirement already satisfied: websocket-client in c:\\users\\muham\\anaconda_3\\lib\\site-packages (from jupyter-server>=1.8->nbclassic>=0.4.7->notebook>=4.4.1->widgetsnbextension~=3.5.0->ipywidgets) (0.58.0)\n",
            "Requirement already satisfied: cffi>=1.0.1 in c:\\users\\muham\\anaconda_3\\lib\\site-packages (from argon2-cffi-bindings->argon2-cffi->notebook>=4.4.1->widgetsnbextension~=3.5.0->ipywidgets) (1.15.1)\n",
            "Requirement already satisfied: soupsieve>1.2 in c:\\users\\muham\\anaconda_3\\lib\\site-packages (from beautifulsoup4->nbconvert>=5->notebook>=4.4.1->widgetsnbextension~=3.5.0->ipywidgets) (2.3.2.post1)\n",
            "Requirement already satisfied: webencodings in c:\\users\\muham\\anaconda_3\\lib\\site-packages (from bleach->nbconvert>=5->notebook>=4.4.1->widgetsnbextension~=3.5.0->ipywidgets) (0.5.1)\n",
            "Requirement already satisfied: idna>=2.8 in c:\\users\\muham\\anaconda_3\\lib\\site-packages (from anyio<4,>=3.1.0->jupyter-server>=1.8->nbclassic>=0.4.7->notebook>=4.4.1->widgetsnbextension~=3.5.0->ipywidgets) (3.4)\n",
            "Requirement already satisfied: sniffio>=1.1 in c:\\users\\muham\\anaconda_3\\lib\\site-packages (from anyio<4,>=3.1.0->jupyter-server>=1.8->nbclassic>=0.4.7->notebook>=4.4.1->widgetsnbextension~=3.5.0->ipywidgets) (1.2.0)\n",
            "Requirement already satisfied: pycparser in c:\\users\\muham\\anaconda_3\\lib\\site-packages (from cffi>=1.0.1->argon2-cffi-bindings->argon2-cffi->notebook>=4.4.1->widgetsnbextension~=3.5.0->ipywidgets) (2.21)\n",
            "Requirement already satisfied: pandas in c:\\users\\muham\\anaconda_3\\lib\\site-packages (1.5.3)\n",
            "Requirement already satisfied: pytz>=2020.1 in c:\\users\\muham\\anaconda_3\\lib\\site-packages (from pandas) (2022.7)\n",
            "Requirement already satisfied: numpy>=1.21.0 in c:\\users\\muham\\anaconda_3\\lib\\site-packages (from pandas) (1.23.5)\n",
            "Requirement already satisfied: python-dateutil>=2.8.1 in c:\\users\\muham\\anaconda_3\\lib\\site-packages (from pandas) (2.8.2)\n",
            "Requirement already satisfied: six>=1.5 in c:\\users\\muham\\anaconda_3\\lib\\site-packages (from python-dateutil>=2.8.1->pandas) (1.16.0)\n",
            "Requirement already satisfied: matplotlib in c:\\users\\muham\\anaconda_3\\lib\\site-packages (3.7.0)\n",
            "Requirement already satisfied: pyparsing>=2.3.1 in c:\\users\\muham\\anaconda_3\\lib\\site-packages (from matplotlib) (3.0.9)\n",
            "Requirement already satisfied: fonttools>=4.22.0 in c:\\users\\muham\\anaconda_3\\lib\\site-packages (from matplotlib) (4.25.0)\n",
            "Requirement already satisfied: cycler>=0.10 in c:\\users\\muham\\anaconda_3\\lib\\site-packages (from matplotlib) (0.11.0)\n",
            "Requirement already satisfied: contourpy>=1.0.1 in c:\\users\\muham\\anaconda_3\\lib\\site-packages (from matplotlib) (1.0.5)\n",
            "Requirement already satisfied: pillow>=6.2.0 in c:\\users\\muham\\anaconda_3\\lib\\site-packages (from matplotlib) (9.4.0)\n",
            "Requirement already satisfied: packaging>=20.0 in c:\\users\\muham\\anaconda_3\\lib\\site-packages (from matplotlib) (22.0)\n",
            "Requirement already satisfied: python-dateutil>=2.7 in c:\\users\\muham\\anaconda_3\\lib\\site-packages (from matplotlib) (2.8.2)\n",
            "Requirement already satisfied: kiwisolver>=1.0.1 in c:\\users\\muham\\anaconda_3\\lib\\site-packages (from matplotlib) (1.4.4)\n",
            "Requirement already satisfied: numpy>=1.20 in c:\\users\\muham\\anaconda_3\\lib\\site-packages (from matplotlib) (1.23.5)\n",
            "Requirement already satisfied: six>=1.5 in c:\\users\\muham\\anaconda_3\\lib\\site-packages (from python-dateutil>=2.7->matplotlib) (1.16.0)\n",
            "Requirement already satisfied: seaborn in c:\\users\\muham\\anaconda_3\\lib\\site-packages (0.12.2)\n",
            "Requirement already satisfied: numpy!=1.24.0,>=1.17 in c:\\users\\muham\\anaconda_3\\lib\\site-packages (from seaborn) (1.23.5)\n",
            "Requirement already satisfied: pandas>=0.25 in c:\\users\\muham\\anaconda_3\\lib\\site-packages (from seaborn) (1.5.3)\n",
            "Requirement already satisfied: matplotlib!=3.6.1,>=3.1 in c:\\users\\muham\\anaconda_3\\lib\\site-packages (from seaborn) (3.7.0)\n",
            "Requirement already satisfied: pyparsing>=2.3.1 in c:\\users\\muham\\anaconda_3\\lib\\site-packages (from matplotlib!=3.6.1,>=3.1->seaborn) (3.0.9)\n",
            "Requirement already satisfied: fonttools>=4.22.0 in c:\\users\\muham\\anaconda_3\\lib\\site-packages (from matplotlib!=3.6.1,>=3.1->seaborn) (4.25.0)\n",
            "Requirement already satisfied: packaging>=20.0 in c:\\users\\muham\\anaconda_3\\lib\\site-packages (from matplotlib!=3.6.1,>=3.1->seaborn) (22.0)\n",
            "Requirement already satisfied: kiwisolver>=1.0.1 in c:\\users\\muham\\anaconda_3\\lib\\site-packages (from matplotlib!=3.6.1,>=3.1->seaborn) (1.4.4)\n",
            "Requirement already satisfied: contourpy>=1.0.1 in c:\\users\\muham\\anaconda_3\\lib\\site-packages (from matplotlib!=3.6.1,>=3.1->seaborn) (1.0.5)\n",
            "Requirement already satisfied: cycler>=0.10 in c:\\users\\muham\\anaconda_3\\lib\\site-packages (from matplotlib!=3.6.1,>=3.1->seaborn) (0.11.0)\n",
            "Requirement already satisfied: python-dateutil>=2.7 in c:\\users\\muham\\anaconda_3\\lib\\site-packages (from matplotlib!=3.6.1,>=3.1->seaborn) (2.8.2)\n",
            "Requirement already satisfied: pillow>=6.2.0 in c:\\users\\muham\\anaconda_3\\lib\\site-packages (from matplotlib!=3.6.1,>=3.1->seaborn) (9.4.0)\n",
            "Requirement already satisfied: pytz>=2020.1 in c:\\users\\muham\\anaconda_3\\lib\\site-packages (from pandas>=0.25->seaborn) (2022.7)\n",
            "Requirement already satisfied: six>=1.5 in c:\\users\\muham\\anaconda_3\\lib\\site-packages (from python-dateutil>=2.7->matplotlib!=3.6.1,>=3.1->seaborn) (1.16.0)\n",
            "Requirement already satisfied: scikit-learn in c:\\users\\muham\\anaconda_3\\lib\\site-packages (1.2.1)\n",
            "Requirement already satisfied: joblib>=1.1.1 in c:\\users\\muham\\anaconda_3\\lib\\site-packages (from scikit-learn) (1.1.1)\n",
            "Requirement already satisfied: scipy>=1.3.2 in c:\\users\\muham\\anaconda_3\\lib\\site-packages (from scikit-learn) (1.10.0)\n",
            "Requirement already satisfied: numpy>=1.17.3 in c:\\users\\muham\\anaconda_3\\lib\\site-packages (from scikit-learn) (1.23.5)\n",
            "Requirement already satisfied: threadpoolctl>=2.0.0 in c:\\users\\muham\\anaconda_3\\lib\\site-packages (from scikit-learn) (2.2.0)\n",
            "Collecting roughpy\n",
            "  Downloading roughpy-0.0.6-cp310-cp310-win_amd64.whl (2.2 MB)\n",
            "     ---------------------------------------- 2.2/2.2 MB 1.5 MB/s eta 0:00:00\n",
            "Installing collected packages: roughpy\n",
            "Successfully installed roughpy-0.0.6\n"
          ]
        }
      ],
      "source": [
        "!pip install ipywidgets\n",
        "!pip install pandas\n",
        "!pip install matplotlib\n",
        "!pip install seaborn\n",
        "!pip install scikit-learn\n",
        "!pip install roughpy"
      ]
    },
    {
      "cell_type": "markdown",
      "metadata": {
        "id": "c8v5tZz93sHB"
      },
      "source": [
        "# Importing the libraries"
      ]
    },
    {
      "cell_type": "code",
      "execution_count": null,
      "metadata": {
        "id": "8fxKIQfm3sHC"
      },
      "outputs": [],
      "source": [
        "import os\n",
        "import pandas as pd\n",
        "import matplotlib.pyplot as plt\n",
        "import ipywidgets as widgets\n",
        "from IPython.display import display, clear_output\n",
        "from sklearn.model_selection import train_test_split\n",
        "from sklearn.metrics import mean_squared_error\n",
        "import numpy as np\n",
        "from datetime import timedelta, datetime\n",
        "import matplotlib.dates as mdates\n",
        "import warnings\n",
        "from sklearn.preprocessing import KBinsDiscretizer"
      ]
    },
    {
      "cell_type": "markdown",
      "metadata": {
        "id": "jZdlI9YS3sHD"
      },
      "source": [
        "# Converting the dataset into branches for easier analysis"
      ]
    },
    {
      "cell_type": "markdown",
      "metadata": {
        "id": "7q8gSMeC3sHD"
      },
      "source": [
        "First we are reading the datasets by using pandas dataframe after doing that we print the head which displays first few rows to see what is the data and everything and to see if it's correctly loaded or not."
      ]
    },
    {
      "cell_type": "code",
      "execution_count": null,
      "metadata": {
        "id": "hgzpuIkw3sHD",
        "outputId": "e7e67314-5500-4c07-8cf5-c0f1df73ce7b"
      },
      "outputs": [
        {
          "name": "stderr",
          "output_type": "stream",
          "text": [
            "C:\\Users\\muham\\AppData\\Local\\Temp\\ipykernel_18096\\2360185141.py:1: DtypeWarning: Columns (1,2,3,4,5,6,7,8,9,10,11,12,13,14,15,16,17,18,19,20,21,22,23,24,25,26,27,28,29,30,31,32,33,34,35,36,37,38,39,40,41,42,43,44,45,46,47,48,49,50,51,52,53,54,55,56,57,58,59,60,61,62,63,64,65,66,67,68,69,70,71,72,73,74,75,76,77,78,79,80,81,82,83,84,85,86,87,88,89,90,91,92,93,94,95,96,97,98,99,100,101,102,103,104,105,106,107,108,109,110,111,112,113,114,115,116,117,118,119,120,121,122,123,124,125,126,127,128,129,130,131,132,133,134,135,136,137,138,139,140,141,142,143,144,145,146,147,148,149,150,151,152,153,154,155,156,157,158,159,160,161,162,163,164,165,166,167,168,169,170,171,172,173,174,175,176,177,178,179,180,181,182,183,184,185,186,187,188,189,190,191,192,193,194,195,196,197,198,199,200,201,202,203,204,205,206,207,208,209,210,211,212,213,214,215,216,217,218,219,220,221,222,223,224,225,226,227,228,229,230,231,232,233,234,235,236,237,238,239,240,241,242,243,244,245,246,247,248,249,250,251,252,253,254,255,256,257,258,259,260,261,262,263,264,265,266,267,268,269,270,271,272,273,274,275,276,277,278,279,280,281,282,283,284,285,286,287,288,289,290,291,292,293,294,295,296,297,298,299,300,301,302,303,304,305,306,307,308,309,310,311,312,313,314,315,316,317,318,319,320,321,322,323,324,325,326,327,328,329,330,331,332,333,334,335,336,337,338,339,340,341,342,343,344,345,346,347,348,349,350,351,352,353,354,355,356,357,358,359,360,361,362,363,364,365,366,367,368,369,370,371,372,373,374,375,376,377,378,379,380,381,382,383,384,385,386,387,388,389,390,391,392,393,394,395,396,397,398,399,400,401,402,403,404,405,406,407,408,409,410,411,412,413,414,415,416,417,418,419,420,421,422,423,424,425,426,427,428,429,430,431,432,433,434,435,436,437,438,439,440,441,442,443,444,445,446,447,448,449,450,451,452,453,454,455,456,457,458,459,460,461,462,463,464,465,466,467,468,469,470,471,472,473,474,475,476,477,478,479,480,481,482,483,484,485,486,487,488,489,490,491,492,493,494,495,496,497,498,499,500,501,502,503,504,505,506,507,508,509,510,511,512,513,514,515,516,517,518,519,520,521,522,523,524,525,526,527,528,529,530,531,532,533,534,535,536,537,538,539,540,541,542,543,544,545,546,547,548,549,550,551,552,553,554,555,556,557,558,559,560,561,562,563,564,565,566,567,568,569,570,571,572,573,574,575,576,577,578,579,580,581,582,583,584,585,586,587,588,589,590,591,592,593,594,595,596,597,598,599,600,601,602,603,604,605,606,607,608,609,610,611,612,613,614,615,616,617,618,619,620,621,622,623,624,625,626,627,628,629,630,631,632,633,634,635,636,637,638,639,640,641,642,643,644,645,646,647,648,649,650,651,652,653,654,655,656,657,658,659,660,661,662,663,664,665,666,667,668,669,670,671,672,673,674,675,676,677,678,679,680,681,682,683,684,685,686,687,688,689,690,691,692,693,694,695,696,697,698,699,700,701,702,703,704,705,706,707,708,709,710,711,712,713,714,715,716,717,718,719,720,721,722,723,724,725,726,727,728,729,730,731,732,733,734,735,736,737,738,739,740,741,742,743,744,745,746,747,748,749,750,751,752,753,754,755,756,757,758,759,760,761,762,763,764,765,766,767,768,769,770,771,772,773,774,775,776,777,778,779,780,781,782,783,784,785,786,787,788,789,790,791,792,793,794,795,796,797,798,799,800,801,802,803,804,805,806,807,808,809,810,811,812,813,814,815,816,817,818,819,820,821,822,823,824,825,826,827,828,829,830,831,832,833,834,835,836,837,838,839,840,841,842,843,844,845,846,847,848,849,850,851,852,853,854,855,856,857,858,859,860,861,862,863,864,865,866,867,868,869,870,871,872,873,874,875,876,877,878,879,880,881,882,883,884,885,886,887,888,889,890,891,892,893,894,895,896,897,898,899,900,901,902,903,904,905,906,907,908,909,910,911,912,913,914,915,916,917,918,919,920,921,922,923,924,925,926,927,928,929,930,931,932,933,934,935,936,937,938,939,940,941,942,943,944,945,946,947,948,949,950,951,952,953,954,955,956,957,958,959,960,961,962,963,964,965,966,967,968,969,970,971,972,973,974,975,976,977,978,979,980,981,982,983,984,985,986,987,988,989,990,991,992,993,994,995,996,997,998,999,1000,1001,1002,1003,1004,1005,1006,1007,1008,1009,1010,1011,1012,1013,1014,1015,1016,1017,1018,1019,1020,1021,1022,1023,1024,1025,1026,1027,1028,1029,1030,1031,1032,1033,1034,1035,1036,1037,1038,1039,1040,1041,1042,1043,1044,1045,1046,1047,1048,1049,1050,1051,1052,1053,1054,1055,1056,1057,1058,1059,1060,1061,1062,1063,1064,1065,1066,1067,1068,1069,1070,1071,1072,1073,1074,1075,1076,1077,1078,1079,1080,1081,1082,1083,1084,1085,1086,1087,1088,1089,1090,1091,1092,1093,1094,1095,1096,1097,1098,1099,1100,1101,1102,1103,1104,1105,1106,1107,1108,1109,1110,1111,1112,1113,1114,1115,1116,1117,1118,1119,1120,1121,1122,1123,1124,1125,1126,1127,1128,1129,1130,1131,1132,1133,1134,1135,1136,1137,1138,1139,1140,1141,1142,1143,1144,1145,1146,1147,1148,1149,1150,1151,1152,1153,1154,1155,1156,1157,1158,1159,1160,1161,1162,1163,1164,1165,1166,1167,1168,1169,1170,1171,1172,1173,1174,1175,1176,1177,1178,1179,1180,1181,1182,1183,1184,1185,1186,1187,1188,1189,1190,1191,1192,1193,1194,1195,1196,1197,1198,1199,1200,1201,1202,1203,1204,1205,1206,1207,1208,1209,1210,1211,1212,1213,1214,1215,1216,1217,1218,1219,1220,1221,1222,1223,1224,1225,1226,1227,1228,1229,1230,1231,1232,1233,1234,1235,1236,1237,1238,1239,1240,1241,1242,1243,1244,1245,1246,1247,1248,1249,1250,1251,1252,1253,1254,1255,1256,1257,1258,1259,1260,1261,1262,1263,1264,1265,1266,1267,1268,1269,1270,1271,1272,1273,1274,1275,1276,1277,1278,1279,1280,1281,1282,1283,1284,1285,1286,1287,1288,1289,1290,1291,1292,1293,1294,1295,1296,1297,1298,1299,1300,1301,1302,1303,1304,1305,1306,1307,1308,1309,1310,1311,1312,1313,1314,1315,1316,1317,1318,1319,1320,1321,1322,1323,1324,1325,1326,1327,1328,1329,1330,1331,1332,1333,1334,1335,1336,1337,1338,1339,1340,1341,1342,1343,1344,1345,1346,1347,1348,1349,1350,1351,1352,1353,1354,1355,1356,1357,1358,1359,1360,1361,1362,1363,1364,1365,1366,1367,1368,1369,1370,1371,1372,1373,1374,1375,1376,1377,1378,1379,1380,1381,1382,1383,1384,1385,1386,1387,1388,1389,1390,1391,1392,1393,1394,1395,1396,1397,1398,1399,1400,1401,1402,1403,1404,1405,1406,1407,1408,1409,1410,1411,1412,1413,1414,1415,1416,1417,1418,1419,1420,1421,1422,1423,1424,1425,1426,1427,1428,1429,1430,1431,1432,1433,1434,1435,1436,1437,1438,1439,1440,1441,1442,1443,1444,1445,1446,1447,1448,1449,1450,1451,1452,1453,1454,1455,1456,1457,1458,1459,1460,1461,1462,1463,1464,1465,1466,1467,1468,1469,1470,1471,1472,1473,1474,1475,1476,1477,1478,1479,1480,1481,1482,1483,1484,1485,1486,1487,1488,1489,1490,1491,1492,1493,1494,1495,1496,1497,1498,1499,1500,1501,1502,1503,1504,1505,1506,1507,1508,1509,1510,1511,1512,1513,1514,1515,1516,1517,1518,1519,1520,1521,1522,1523,1524,1525,1526,1527,1528,1529,1530,1531,1532,1533,1534,1535,1536,1537,1538,1539,1540,1541,1542,1543,1544,1545,1546,1547,1548,1549,1550,1551,1552,1553,1554,1555,1556,1557,1558,1559,1560,1561,1562,1563,1564,1565,1566,1567,1568,1569,1570,1571,1572,1573,1574,1575,1576,1577,1578,1579,1580,1581,1582,1583,1584,1585,1586,1587,1588,1589,1590,1591,1592,1593,1594,1595,1596,1597,1598,1599,1600,1601,1602,1603,1604,1605,1606,1607,1608,1609,1610,1611,1612,1613,1614,1615,1616,1617,1618,1619,1620,1621,1622,1623,1624,1625,1626,1627,1628,1629,1630,1631,1632,1633,1634,1635,1636,1637,1638,1639,1640,1641,1642,1643,1644,1645,1646,1647,1648,1649,1650,1651,1652,1653,1654,1655,1656,1657,1658,1659,1660,1661,1662,1663,1664,1665,1666,1667,1668,1669,1670,1671,1672,1673,1674,1675,1676,1677,1678,1679,1680,1681,1682,1683,1684,1685,1686,1687,1688,1689,1690,1691,1692,1693,1694,1695,1696,1697,1698,1699,1700,1701,1702,1703,1704,1705,1706,1707,1708,1709,1710,1711,1712,1713,1714,1715,1716,1717,1718,1719,1720,1721,1722,1723,1724,1725,1726,1727,1728,1729,1730,1731,1732,1733,1734,1735,1736,1737,1738,1739,1740,1741,1742,1743,1744,1745,1746,1747,1748,1749,1750,1751,1752,1753,1754,1755,1756,1757,1758,1759,1760,1761,1762,1763,1764,1765,1766,1767,1768,1769,1770,1771,1772,1773,1774,1775,1776,1777,1778,1779,1780,1781,1782,1783,1784,1785,1786,1787,1788,1789,1790,1791,1792,1793,1794,1795,1796,1797,1798,1799,1800,1801,1802,1803,1804,1805,1806,1807,1808,1809,1810,1811,1812,1813,1814,1815,1816,1817,1818,1819,1820,1821,1822,1823,1824,1825,1826,1827,1828,1829,1830,1831,1832,1833,1834,1835,1836,1837,1838,1839,1840,1841,1842,1843,1844,1845,1846,1847,1848,1849,1850,1851,1852,1853,1854,1855,1856,1857,1858,1859,1860,1861,1862,1863,1864,1865,1866,1867,1868,1869,1870,1871,1872,1873,1874,1875,1876,1877,1878,1879,1880,1881,1882,1883,1884,1885,1886,1887,1888,1889,1890,1891,1892,1893,1894,1895,1896,1897,1898,1899,1900,1901,1902,1903,1904,1905,1906,1907,1908,1909,1910,1911,1912,1913,1914,1915,1916,1917,1918,1919,1920,1921,1922,1923,1924,1925,1926,1927,1928,1929,1930,1931,1932,1933,1934,1935,1936,1937,1938,1939,1940,1941,1942,1943,1944,1945,1946,1947,1948,1949,1950,1951,1952,1953,1954,1955,1956,1957,1958,1959,1960,1961,1962,1963,1964,1965,1966,1967,1968,1969,1970,1971,1972,1973,1974,1975,1976,1977,1978,1979,1980,1981,1982,1983,1984,1985,1986,1987,1988,1989,1990,1991,1992,1993,1994,1995,1996,1997,1998,1999,2000,2001,2002,2003,2004,2005,2006,2007,2008,2009,2010,2011,2012,2013,2014,2015,2016,2017,2018,2019,2020,2021,2022,2023,2024,2025,2026,2027,2028,2029,2030,2031,2032,2033,2034,2035,2036,2037,2038,2039,2040,2041,2042,2043,2044,2045,2046,2047,2048,2049,2050,2051,2052,2053,2054,2055,2056,2057,2058,2059,2060,2061,2062,2063,2064,2065,2066,2067,2068,2069,2070,2071,2072,2073,2074,2075,2076,2077,2078,2079,2080,2081,2082,2083,2084,2085,2086,2087,2088,2089,2090,2091,2092,2093,2094,2095,2096,2097,2098,2099,2100,2101,2102,2103,2104,2105,2106,2107,2108,2109,2110,2111,2112,2113,2114,2115,2116,2117,2118,2119,2120,2121,2122,2123,2124,2125,2126,2127,2128,2129,2130,2131,2132,2133,2134,2135,2136,2137,2138,2139,2140,2141,2142,2143,2144,2145,2146,2147,2148,2149,2150,2151,2152,2153,2154,2155,2156,2157,2158,2159,2160,2161,2162,2163,2164,2165,2166,2167,2168,2169,2170,2171,2172,2173,2174,2175,2176,2177,2178,2179,2180,2181,2182,2183,2184,2185,2186,2187,2188,2189,2190,2191,2192,2193,2194,2195,2196,2197,2198,2199,2200,2201,2202,2203,2204,2205,2206,2207,2208,2209,2210,2211,2212,2213,2214,2215,2216,2217,2218,2219,2220,2221,2222,2223,2224,2225,2226,2227,2228,2229,2230,2231,2232,2233,2234,2235,2236,2237,2238,2239,2240,2241,2242,2243,2244,2245,2246,2247,2248,2249,2250,2251,2252,2253,2254,2255,2256,2257,2258,2259,2260,2261,2262,2263,2264,2265,2266,2267,2268,2269,2270,2271,2272,2273,2274,2275,2276,2277,2278,2279,2280,2281,2282,2283,2284,2285,2286,2287,2288,2289,2290,2291,2292,2293,2294,2295,2296,2297,2298,2299,2300,2301,2302,2303,2304,2305,2306,2307,2308,2309,2310,2311,2312,2313,2314,2315,2316,2317,2318,2319,2320,2321,2322,2323,2324,2325,2326,2327,2328,2329,2330,2331,2332,2333,2334,2335,2336,2337,2338,2339,2340,2341,2342,2343,2344,2345,2346,2347,2348,2349,2350,2351,2352,2353,2354,2355,2356,2357,2358,2359,2360,2361,2362,2363,2364,2365,2366,2367,2368,2369,2370,2371,2372,2373,2374,2375,2376,2377,2378,2379,2380,2381,2382,2383,2384,2385,2386,2387,2388,2389,2390,2391,2392,2393,2394,2395,2396,2397,2398,2399,2400,2401,2402,2403,2404,2405,2406,2407,2408,2409,2410,2411,2412,2413,2414,2415,2416,2417,2418,2419,2420,2421,2422,2423,2424,2425,2426,2427,2428,2429,2430,2431,2432,2433,2434,2435,2436,2437,2438,2439,2440,2441,2442,2443,2444,2445,2446,2447,2448,2449,2450,2451,2452,2453,2454,2455,2456,2457,2458,2459,2460,2461,2462,2463,2464,2465,2466,2467,2468,2469,2470,2471,2472,2473,2474,2475,2476,2477,2478,2479,2480,2481,2482,2483,2484,2485,2486,2487,2488,2489,2490,2491,2492,2493,2494,2495,2496,2497,2498,2499,2500,2501,2502,2503,2504,2505,2506,2507,2508,2509,2510,2511,2512,2513,2514,2515) have mixed types. Specify dtype option on import or set low_memory=False.\n",
            "  sp500_data = pd.read_csv('dataset/sp500.csv')\n"
          ]
        },
        {
          "data": {
            "text/html": [
              "<div>\n",
              "<style scoped>\n",
              "    .dataframe tbody tr th:only-of-type {\n",
              "        vertical-align: middle;\n",
              "    }\n",
              "\n",
              "    .dataframe tbody tr th {\n",
              "        vertical-align: top;\n",
              "    }\n",
              "\n",
              "    .dataframe thead th {\n",
              "        text-align: right;\n",
              "    }\n",
              "</style>\n",
              "<table border=\"1\" class=\"dataframe\">\n",
              "  <thead>\n",
              "    <tr style=\"text-align: right;\">\n",
              "      <th></th>\n",
              "      <th>Date</th>\n",
              "      <th>Close</th>\n",
              "      <th>Close.1</th>\n",
              "      <th>Close.2</th>\n",
              "      <th>Close.3</th>\n",
              "      <th>Close.4</th>\n",
              "      <th>Close.5</th>\n",
              "      <th>Close.6</th>\n",
              "      <th>Close.7</th>\n",
              "      <th>Close.8</th>\n",
              "      <th>...</th>\n",
              "      <th>Volume.493</th>\n",
              "      <th>Volume.494</th>\n",
              "      <th>Volume.495</th>\n",
              "      <th>Volume.496</th>\n",
              "      <th>Volume.497</th>\n",
              "      <th>Volume.498</th>\n",
              "      <th>Volume.499</th>\n",
              "      <th>Volume.500</th>\n",
              "      <th>Volume.501</th>\n",
              "      <th>Volume.502</th>\n",
              "    </tr>\n",
              "  </thead>\n",
              "  <tbody>\n",
              "    <tr>\n",
              "      <th>0</th>\n",
              "      <td>NaN</td>\n",
              "      <td>A</td>\n",
              "      <td>AAL</td>\n",
              "      <td>AAP</td>\n",
              "      <td>AAPL</td>\n",
              "      <td>ABBV</td>\n",
              "      <td>ABC</td>\n",
              "      <td>ABT</td>\n",
              "      <td>ACGL</td>\n",
              "      <td>ACN</td>\n",
              "      <td>...</td>\n",
              "      <td>WYNN</td>\n",
              "      <td>XEL</td>\n",
              "      <td>XOM</td>\n",
              "      <td>XRAY</td>\n",
              "      <td>XYL</td>\n",
              "      <td>YUM</td>\n",
              "      <td>ZBH</td>\n",
              "      <td>ZBRA</td>\n",
              "      <td>ZION</td>\n",
              "      <td>ZTS</td>\n",
              "    </tr>\n",
              "    <tr>\n",
              "      <th>1</th>\n",
              "      <td>04/01/2010</td>\n",
              "      <td>20.22970963</td>\n",
              "      <td>4.49687624</td>\n",
              "      <td>36.70385742</td>\n",
              "      <td>6.496294022</td>\n",
              "      <td>NaN</td>\n",
              "      <td>21.76925087</td>\n",
              "      <td>19.33639908</td>\n",
              "      <td>7.994443893</td>\n",
              "      <td>32.70815277</td>\n",
              "      <td>...</td>\n",
              "      <td>4741400</td>\n",
              "      <td>2670400</td>\n",
              "      <td>27809100</td>\n",
              "      <td>1051400</td>\n",
              "      <td>NaN</td>\n",
              "      <td>2962274</td>\n",
              "      <td>805872</td>\n",
              "      <td>168800</td>\n",
              "      <td>3974600</td>\n",
              "      <td>NaN</td>\n",
              "    </tr>\n",
              "    <tr>\n",
              "      <th>2</th>\n",
              "      <td>05/01/2010</td>\n",
              "      <td>20.00995445</td>\n",
              "      <td>5.00595665</td>\n",
              "      <td>36.4856987</td>\n",
              "      <td>6.507524967</td>\n",
              "      <td>NaN</td>\n",
              "      <td>21.61393547</td>\n",
              "      <td>19.18017197</td>\n",
              "      <td>7.967778206</td>\n",
              "      <td>32.91030502</td>\n",
              "      <td>...</td>\n",
              "      <td>5644300</td>\n",
              "      <td>4321400</td>\n",
              "      <td>30174700</td>\n",
              "      <td>763400</td>\n",
              "      <td>NaN</td>\n",
              "      <td>3298757</td>\n",
              "      <td>1769643</td>\n",
              "      <td>168800</td>\n",
              "      <td>5605500</td>\n",
              "      <td>NaN</td>\n",
              "    </tr>\n",
              "    <tr>\n",
              "      <th>3</th>\n",
              "      <td>06/01/2010</td>\n",
              "      <td>19.93887138</td>\n",
              "      <td>4.798553467</td>\n",
              "      <td>36.80384827</td>\n",
              "      <td>6.404016018</td>\n",
              "      <td>NaN</td>\n",
              "      <td>21.40957069</td>\n",
              "      <td>19.28668976</td>\n",
              "      <td>7.93333292</td>\n",
              "      <td>33.26016235</td>\n",
              "      <td>...</td>\n",
              "      <td>2738800</td>\n",
              "      <td>2164500</td>\n",
              "      <td>35044700</td>\n",
              "      <td>1595100</td>\n",
              "      <td>NaN</td>\n",
              "      <td>4178981</td>\n",
              "      <td>1315619</td>\n",
              "      <td>385300</td>\n",
              "      <td>12615200</td>\n",
              "      <td>NaN</td>\n",
              "    </tr>\n",
              "    <tr>\n",
              "      <th>4</th>\n",
              "      <td>07/01/2010</td>\n",
              "      <td>19.91301727</td>\n",
              "      <td>4.939965725</td>\n",
              "      <td>36.79476929</td>\n",
              "      <td>6.392177105</td>\n",
              "      <td>NaN</td>\n",
              "      <td>21.06622505</td>\n",
              "      <td>19.44647408</td>\n",
              "      <td>7.886666775</td>\n",
              "      <td>33.22906113</td>\n",
              "      <td>...</td>\n",
              "      <td>2388500</td>\n",
              "      <td>3041700</td>\n",
              "      <td>27192100</td>\n",
              "      <td>1096100</td>\n",
              "      <td>NaN</td>\n",
              "      <td>2452472</td>\n",
              "      <td>1734005</td>\n",
              "      <td>183600</td>\n",
              "      <td>24716800</td>\n",
              "      <td>NaN</td>\n",
              "    </tr>\n",
              "  </tbody>\n",
              "</table>\n",
              "<p>5 rows × 2516 columns</p>\n",
              "</div>"
            ],
            "text/plain": [
              "         Date        Close      Close.1      Close.2      Close.3 Close.4  \\\n",
              "0         NaN            A          AAL          AAP         AAPL    ABBV   \n",
              "1  04/01/2010  20.22970963   4.49687624  36.70385742  6.496294022     NaN   \n",
              "2  05/01/2010  20.00995445   5.00595665   36.4856987  6.507524967     NaN   \n",
              "3  06/01/2010  19.93887138  4.798553467  36.80384827  6.404016018     NaN   \n",
              "4  07/01/2010  19.91301727  4.939965725  36.79476929  6.392177105     NaN   \n",
              "\n",
              "       Close.5      Close.6      Close.7      Close.8  ... Volume.493  \\\n",
              "0          ABC          ABT         ACGL          ACN  ...       WYNN   \n",
              "1  21.76925087  19.33639908  7.994443893  32.70815277  ...    4741400   \n",
              "2  21.61393547  19.18017197  7.967778206  32.91030502  ...    5644300   \n",
              "3  21.40957069  19.28668976   7.93333292  33.26016235  ...    2738800   \n",
              "4  21.06622505  19.44647408  7.886666775  33.22906113  ...    2388500   \n",
              "\n",
              "  Volume.494 Volume.495 Volume.496 Volume.497 Volume.498 Volume.499  \\\n",
              "0        XEL        XOM       XRAY        XYL        YUM        ZBH   \n",
              "1    2670400   27809100    1051400        NaN    2962274     805872   \n",
              "2    4321400   30174700     763400        NaN    3298757    1769643   \n",
              "3    2164500   35044700    1595100        NaN    4178981    1315619   \n",
              "4    3041700   27192100    1096100        NaN    2452472    1734005   \n",
              "\n",
              "  Volume.500 Volume.501 Volume.502  \n",
              "0       ZBRA       ZION        ZTS  \n",
              "1     168800    3974600        NaN  \n",
              "2     168800    5605500        NaN  \n",
              "3     385300   12615200        NaN  \n",
              "4     183600   24716800        NaN  \n",
              "\n",
              "[5 rows x 2516 columns]"
            ]
          },
          "execution_count": 140,
          "metadata": {},
          "output_type": "execute_result"
        }
      ],
      "source": [
        "sp500_data = pd.read_csv('dataset/sp500.csv')\n",
        "\n",
        "sp500_data.head()"
      ]
    },
    {
      "cell_type": "markdown",
      "metadata": {
        "id": "zMnsZVQY3sHD"
      },
      "source": [
        "When that has been done it's wise to make sperate datasets for the columns becuase they represent each company and they are best in ordered form. So they are converted to the sperate datasets and are stored in companies_data directory."
      ]
    },
    {
      "cell_type": "code",
      "execution_count": null,
      "metadata": {
        "id": "FPDo8hyz3sHD"
      },
      "outputs": [],
      "source": [
        "ticker_symbols = sp500_data.iloc[0, 1::2].values\n",
        "\n",
        "output_directory = \"companies_data\"\n",
        "os.makedirs(output_directory, exist_ok=True)"
      ]
    },
    {
      "cell_type": "code",
      "execution_count": null,
      "metadata": {
        "id": "qfW62Tmw3sHE",
        "outputId": "a9c1d2fc-8933-4dba-c57f-7cd1d8d3431f"
      },
      "outputs": [
        {
          "data": {
            "text/plain": [
              "'companies_data'"
            ]
          },
          "execution_count": 142,
          "metadata": {},
          "output_type": "execute_result"
        }
      ],
      "source": [
        "for idx, ticker in enumerate(ticker_symbols):\n",
        "    close_col = 'Close' if idx == 0 else f'Close.{idx}'\n",
        "    volume_col = 'Volume' if idx == 0 else f'Volume.{idx}'\n",
        "\n",
        "    if close_col in sp500_data.columns and volume_col in sp500_data.columns:\n",
        "        company_data = sp500_data[['Date', close_col, volume_col]].copy()\n",
        "        company_data.columns = ['Date', 'Close', 'Volume']\n",
        "        company_data = company_data.iloc[1:].reset_index(drop=True)\n",
        "\n",
        "        company_data.to_csv(os.path.join(output_directory, f'{ticker}.csv'), index=False)\n",
        "\n",
        "output_directory"
      ]
    },
    {
      "cell_type": "markdown",
      "metadata": {
        "id": "-KZgSIL03sHE"
      },
      "source": [
        "# For demonstration let's plot just an Apple data to see if all the things are good as expected"
      ]
    },
    {
      "cell_type": "code",
      "execution_count": null,
      "metadata": {
        "id": "CP2tm4cd3sHE",
        "outputId": "7b39ec53-9600-466f-9d3e-02d4bc196cb3"
      },
      "outputs": [
        {
          "name": "stderr",
          "output_type": "stream",
          "text": [
            "C:\\Users\\muham\\AppData\\Local\\Temp\\ipykernel_18096\\1179616849.py:2: UserWarning: Parsing dates in DD/MM/YYYY format when dayfirst=False (the default) was specified. This may lead to inconsistently parsed dates! Specify a format to ensure consistent parsing.\n",
            "  aapl_data['Date'] = pd.to_datetime(aapl_data['Date'])\n"
          ]
        }
      ],
      "source": [
        "aapl_data = pd.read_csv(os.path.join(output_directory, 'AAPL.csv'))\n",
        "aapl_data['Date'] = pd.to_datetime(aapl_data['Date'])"
      ]
    },
    {
      "cell_type": "code",
      "execution_count": null,
      "metadata": {
        "id": "MyVrmSDm3sHF",
        "outputId": "a1a9bf01-82f1-49bf-adcb-2621203f3b7b"
      },
      "outputs": [
        {
          "data": {
            "text/html": [
              "<div>\n",
              "<style scoped>\n",
              "    .dataframe tbody tr th:only-of-type {\n",
              "        vertical-align: middle;\n",
              "    }\n",
              "\n",
              "    .dataframe tbody tr th {\n",
              "        vertical-align: top;\n",
              "    }\n",
              "\n",
              "    .dataframe thead th {\n",
              "        text-align: right;\n",
              "    }\n",
              "</style>\n",
              "<table border=\"1\" class=\"dataframe\">\n",
              "  <thead>\n",
              "    <tr style=\"text-align: right;\">\n",
              "      <th></th>\n",
              "      <th>Date</th>\n",
              "      <th>Close</th>\n",
              "      <th>Volume</th>\n",
              "    </tr>\n",
              "  </thead>\n",
              "  <tbody>\n",
              "    <tr>\n",
              "      <th>0</th>\n",
              "      <td>2010-04-01</td>\n",
              "      <td>28.915880</td>\n",
              "      <td>1876000</td>\n",
              "    </tr>\n",
              "    <tr>\n",
              "      <th>1</th>\n",
              "      <td>2010-05-01</td>\n",
              "      <td>28.994598</td>\n",
              "      <td>2186900</td>\n",
              "    </tr>\n",
              "    <tr>\n",
              "      <th>2</th>\n",
              "      <td>2010-06-01</td>\n",
              "      <td>28.819681</td>\n",
              "      <td>1147200</td>\n",
              "    </tr>\n",
              "    <tr>\n",
              "      <th>3</th>\n",
              "      <td>2010-07-01</td>\n",
              "      <td>28.933376</td>\n",
              "      <td>1272400</td>\n",
              "    </tr>\n",
              "    <tr>\n",
              "      <th>4</th>\n",
              "      <td>2010-08-01</td>\n",
              "      <td>29.773031</td>\n",
              "      <td>2068200</td>\n",
              "    </tr>\n",
              "  </tbody>\n",
              "</table>\n",
              "</div>"
            ],
            "text/plain": [
              "        Date      Close   Volume\n",
              "0 2010-04-01  28.915880  1876000\n",
              "1 2010-05-01  28.994598  2186900\n",
              "2 2010-06-01  28.819681  1147200\n",
              "3 2010-07-01  28.933376  1272400\n",
              "4 2010-08-01  29.773031  2068200"
            ]
          },
          "execution_count": 144,
          "metadata": {},
          "output_type": "execute_result"
        }
      ],
      "source": [
        "aapl_data.head()"
      ]
    },
    {
      "cell_type": "code",
      "execution_count": null,
      "metadata": {
        "id": "tPp2V8BC3sHF",
        "outputId": "71b5a053-c029-48b8-a79a-228d4280b694"
      },
      "outputs": [
        {
          "data": {
            "image/png": "[encoded data removed]",
            "text/plain": [
              "<Figure size 1400x700 with 1 Axes>"
            ]
          },
          "metadata": {},
          "output_type": "display_data"
        }
      ],
      "source": [
        "plt.figure(figsize=(14, 7))\n",
        "plt.plot(aapl_data['Date'], aapl_data['Close'], color='blue', label='Closing Price')\n",
        "plt.title('Apple Inc. (AAPL) Stock Closing Price Over Time')\n",
        "plt.xlabel('Date')\n",
        "plt.ylabel('Closing Price (in USD)')\n",
        "plt.legend()\n",
        "plt.grid(True)\n",
        "plt.tight_layout()\n",
        "plt.show()"
      ]
    },
    {
      "cell_type": "code",
      "execution_count": null,
      "metadata": {
        "id": "ygYHUlet3sHF",
        "outputId": "ecc293c2-8d43-40e2-a2a8-81846fba103f"
      },
      "outputs": [
        {
          "data": {
            "image/png": "[encoded data removed]",
            "text/plain": [
              "<Figure size 1400x700 with 1 Axes>"
            ]
          },
          "metadata": {},
          "output_type": "display_data"
        }
      ],
      "source": [
        "\n",
        "\n",
        "\n",
        "\n",
        "plt.figure(figsize=(14, 7))\n",
        "plt.plot(aapl_data['Date'], aapl_data['Volume'], color='green', label='Trading Volume')\n",
        "plt.title('Apple Inc. (AAPL) Stock Trading Volume Over Time')\n",
        "plt.xlabel('Date')\n",
        "plt.ylabel('Volume')\n",
        "plt.legend()\n",
        "plt.grid(True)\n",
        "plt.tight_layout()\n",
        "plt.show()"
      ]
    },
    {
      "cell_type": "code",
      "execution_count": null,
      "metadata": {
        "id": "12e5TQxl3sHF",
        "outputId": "9b8993b4-ec5e-44f4-affc-fbb7bc6c0eb9"
      },
      "outputs": [
        {
          "data": {
            "text/html": [
              "<div>\n",
              "<style scoped>\n",
              "    .dataframe tbody tr th:only-of-type {\n",
              "        vertical-align: middle;\n",
              "    }\n",
              "\n",
              "    .dataframe tbody tr th {\n",
              "        vertical-align: top;\n",
              "    }\n",
              "\n",
              "    .dataframe thead th {\n",
              "        text-align: right;\n",
              "    }\n",
              "</style>\n",
              "<table border=\"1\" class=\"dataframe\">\n",
              "  <thead>\n",
              "    <tr style=\"text-align: right;\">\n",
              "      <th></th>\n",
              "      <th>Close</th>\n",
              "      <th>Volume</th>\n",
              "    </tr>\n",
              "  </thead>\n",
              "  <tbody>\n",
              "    <tr>\n",
              "      <th>count</th>\n",
              "      <td>3399.000000</td>\n",
              "      <td>3.399000e+03</td>\n",
              "    </tr>\n",
              "    <tr>\n",
              "      <th>mean</th>\n",
              "      <td>93.672539</td>\n",
              "      <td>9.298716e+05</td>\n",
              "    </tr>\n",
              "    <tr>\n",
              "      <th>std</th>\n",
              "      <td>46.328375</td>\n",
              "      <td>6.225883e+05</td>\n",
              "    </tr>\n",
              "    <tr>\n",
              "      <th>min</th>\n",
              "      <td>26.493113</td>\n",
              "      <td>1.519000e+05</td>\n",
              "    </tr>\n",
              "    <tr>\n",
              "      <th>25%</th>\n",
              "      <td>65.234386</td>\n",
              "      <td>5.929000e+05</td>\n",
              "    </tr>\n",
              "    <tr>\n",
              "      <th>50%</th>\n",
              "      <td>80.877342</td>\n",
              "      <td>7.947000e+05</td>\n",
              "    </tr>\n",
              "    <tr>\n",
              "      <th>75%</th>\n",
              "      <td>116.288986</td>\n",
              "      <td>1.088950e+06</td>\n",
              "    </tr>\n",
              "    <tr>\n",
              "      <th>max</th>\n",
              "      <td>215.566635</td>\n",
              "      <td>1.906230e+07</td>\n",
              "    </tr>\n",
              "  </tbody>\n",
              "</table>\n",
              "</div>"
            ],
            "text/plain": [
              "             Close        Volume\n",
              "count  3399.000000  3.399000e+03\n",
              "mean     93.672539  9.298716e+05\n",
              "std      46.328375  6.225883e+05\n",
              "min      26.493113  1.519000e+05\n",
              "25%      65.234386  5.929000e+05\n",
              "50%      80.877342  7.947000e+05\n",
              "75%     116.288986  1.088950e+06\n",
              "max     215.566635  1.906230e+07"
            ]
          },
          "execution_count": 147,
          "metadata": {},
          "output_type": "execute_result"
        }
      ],
      "source": [
        "summary_stats = aapl_data[['Close', 'Volume']].describe()\n",
        "\n",
        "summary_stats"
      ]
    },
    {
      "cell_type": "markdown",
      "metadata": {
        "id": "XbfSUhLf3sHF"
      },
      "source": [
        "#### We can see that the apple data is stored as expected and displaying the correct graph. Now I'll use ipywidgets for all the visualization so I'tt give liberty. Also I'll output some of the stats"
      ]
    },
    {
      "cell_type": "markdown",
      "metadata": {
        "id": "g6_fvq2W3sHF"
      },
      "source": [
        "# Stats"
      ]
    },
    {
      "cell_type": "code",
      "execution_count": null,
      "metadata": {
        "id": "KevNc3A63sHF",
        "outputId": "a162bbc6-0d36-4a5c-e52d-14dbceb6ecf7"
      },
      "outputs": [
        {
          "name": "stdout",
          "output_type": "stream",
          "text": [
            "503\n"
          ]
        }
      ],
      "source": [
        "all_stats = []\n",
        "\n",
        "all_files = os.listdir(output_directory)\n",
        "\n",
        "print(len(all_files))"
      ]
    },
    {
      "cell_type": "markdown",
      "metadata": {
        "id": "4UwcCZin3sHF"
      },
      "source": [
        "Here we iterate over all the directory files which are csv (chunks of over sp500), to see whats the basic statistics are like Average close, Media close etc. Theses are stats are listed below"
      ]
    },
    {
      "cell_type": "code",
      "execution_count": null,
      "metadata": {
        "id": "NY7mg_WT3sHF"
      },
      "outputs": [],
      "source": [
        "for file in all_files:\n",
        "    if file.endswith('.csv'):\n",
        "        filepath = os.path.join(output_directory, file)\n",
        "        company_data = pd.read_csv(filepath)\n",
        "        ticker = file[:-4]\n",
        "        close_stats = company_data['Close'].describe()\n",
        "        volume_stats = company_data['Volume'].describe()\n",
        "\n",
        "        stats = {\n",
        "            'Company': ticker,\n",
        "            'Average_Close': close_stats['mean'],\n",
        "            'Median_Close': close_stats['50%'],\n",
        "            'Min_Close': close_stats['min'],\n",
        "            'Max_Close': close_stats['max'],\n",
        "            'Average_Volume': volume_stats['mean'],\n",
        "            'Median_Volume': volume_stats['50%'],\n",
        "            'Min_Volume': volume_stats['min'],\n",
        "            'Max_Volume': volume_stats['max']\n",
        "        }\n",
        "\n",
        "        all_stats.append(stats)"
      ]
    },
    {
      "cell_type": "code",
      "execution_count": null,
      "metadata": {
        "id": "7Ts5rD473sHG"
      },
      "outputs": [],
      "source": [
        "summary_df = pd.DataFrame(all_stats)"
      ]
    },
    {
      "cell_type": "code",
      "execution_count": null,
      "metadata": {
        "id": "Q6vIg97F3sHG",
        "outputId": "1d461c41-48e6-45b8-810b-135647038ab4"
      },
      "outputs": [
        {
          "data": {
            "text/html": [
              "<div>\n",
              "<style scoped>\n",
              "    .dataframe tbody tr th:only-of-type {\n",
              "        vertical-align: middle;\n",
              "    }\n",
              "\n",
              "    .dataframe tbody tr th {\n",
              "        vertical-align: top;\n",
              "    }\n",
              "\n",
              "    .dataframe thead th {\n",
              "        text-align: right;\n",
              "    }\n",
              "</style>\n",
              "<table border=\"1\" class=\"dataframe\">\n",
              "  <thead>\n",
              "    <tr style=\"text-align: right;\">\n",
              "      <th></th>\n",
              "      <th>Company</th>\n",
              "      <th>Average_Close</th>\n",
              "      <th>Median_Close</th>\n",
              "      <th>Min_Close</th>\n",
              "      <th>Max_Close</th>\n",
              "      <th>Average_Volume</th>\n",
              "      <th>Median_Volume</th>\n",
              "      <th>Min_Volume</th>\n",
              "      <th>Max_Volume</th>\n",
              "    </tr>\n",
              "  </thead>\n",
              "  <tbody>\n",
              "    <tr>\n",
              "      <th>0</th>\n",
              "      <td>A</td>\n",
              "      <td>62.827543</td>\n",
              "      <td>43.808224</td>\n",
              "      <td>17.431160</td>\n",
              "      <td>177.025680</td>\n",
              "      <td>2.971345e+06</td>\n",
              "      <td>2310100.0</td>\n",
              "      <td>271900.0</td>\n",
              "      <td>25368667.0</td>\n",
              "    </tr>\n",
              "    <tr>\n",
              "      <th>1</th>\n",
              "      <td>AAL</td>\n",
              "      <td>67.310050</td>\n",
              "      <td>54.425762</td>\n",
              "      <td>29.847603</td>\n",
              "      <td>146.694687</td>\n",
              "      <td>1.018918e+06</td>\n",
              "      <td>884700.0</td>\n",
              "      <td>99900.0</td>\n",
              "      <td>9764800.0</td>\n",
              "    </tr>\n",
              "    <tr>\n",
              "      <th>2</th>\n",
              "      <td>AAP</td>\n",
              "      <td>24.860057</td>\n",
              "      <td>20.910000</td>\n",
              "      <td>3.770965</td>\n",
              "      <td>56.988728</td>\n",
              "      <td>1.776176e+07</td>\n",
              "      <td>8997900.0</td>\n",
              "      <td>1158400.0</td>\n",
              "      <td>428617100.0</td>\n",
              "    </tr>\n",
              "    <tr>\n",
              "      <th>3</th>\n",
              "      <td>AAPL</td>\n",
              "      <td>93.672539</td>\n",
              "      <td>80.877342</td>\n",
              "      <td>26.493113</td>\n",
              "      <td>215.566635</td>\n",
              "      <td>9.298716e+05</td>\n",
              "      <td>794700.0</td>\n",
              "      <td>151900.0</td>\n",
              "      <td>19062300.0</td>\n",
              "    </tr>\n",
              "    <tr>\n",
              "      <th>4</th>\n",
              "      <td>ABBV</td>\n",
              "      <td>120.309316</td>\n",
              "      <td>130.224701</td>\n",
              "      <td>35.594917</td>\n",
              "      <td>230.368683</td>\n",
              "      <td>1.084406e+06</td>\n",
              "      <td>894500.0</td>\n",
              "      <td>130700.0</td>\n",
              "      <td>21832300.0</td>\n",
              "    </tr>\n",
              "  </tbody>\n",
              "</table>\n",
              "</div>"
            ],
            "text/plain": [
              "  Company  Average_Close  Median_Close  Min_Close   Max_Close  Average_Volume  \\\n",
              "0       A      62.827543     43.808224  17.431160  177.025680    2.971345e+06   \n",
              "1     AAL      67.310050     54.425762  29.847603  146.694687    1.018918e+06   \n",
              "2     AAP      24.860057     20.910000   3.770965   56.988728    1.776176e+07   \n",
              "3    AAPL      93.672539     80.877342  26.493113  215.566635    9.298716e+05   \n",
              "4    ABBV     120.309316    130.224701  35.594917  230.368683    1.084406e+06   \n",
              "\n",
              "   Median_Volume  Min_Volume   Max_Volume  \n",
              "0      2310100.0    271900.0   25368667.0  \n",
              "1       884700.0     99900.0    9764800.0  \n",
              "2      8997900.0   1158400.0  428617100.0  \n",
              "3       794700.0    151900.0   19062300.0  \n",
              "4       894500.0    130700.0   21832300.0  "
            ]
          },
          "execution_count": 151,
          "metadata": {},
          "output_type": "execute_result"
        }
      ],
      "source": [
        "summary_df.head()"
      ]
    },
    {
      "cell_type": "markdown",
      "metadata": {
        "id": "r7tRZKOY3sHG"
      },
      "source": [
        "The below code will save the summary statics to the summary.csv and you can see it in the required directory"
      ]
    },
    {
      "cell_type": "code",
      "execution_count": null,
      "metadata": {
        "id": "B7NHVBlz3sHG"
      },
      "outputs": [],
      "source": [
        "summary_df.to_csv(\"summary.csv\", index=False)"
      ]
    },
    {
      "cell_type": "markdown",
      "metadata": {
        "id": "6hT84v093sHG"
      },
      "source": [
        "# Interactive visualization"
      ]
    },
    {
      "cell_type": "markdown",
      "metadata": {
        "id": "dRrIbL6m3sHG"
      },
      "source": [
        "This is the interactive visualization part, becuase instead of plotting graphs seperately in a simple form which make it messy and you can't keep record of it. So I use an interactive approach. Where you can select which part you company you want to visualize and it visualizes that for you"
      ]
    },
    {
      "cell_type": "code",
      "execution_count": null,
      "metadata": {
        "id": "Ffbu2NI93sHG"
      },
      "outputs": [],
      "source": [
        "def plot_company_data(ticker):\n",
        "    company_data = pd.read_csv(os.path.join(output_directory, f'{ticker}.csv'))\n",
        "    company_data['Date'] = pd.to_datetime(company_data['Date'], format='%d/%m/%Y')\n",
        "\n",
        "    fig, ax1 = plt.subplots(figsize=(16, 8))\n",
        "    ax1.plot(company_data['Date'], company_data['Close'], color='#1f77b4', label='Closing Price', linewidth=2)\n",
        "    ax1.set_xlabel('Date')\n",
        "    ax1.set_ylabel('Closing Price (in USD)', color='#1f77b4')\n",
        "    ax1.tick_params(axis='y', labelcolor='#1f77b4')\n",
        "    ax1.set_title(f'{ticker} Stock Data Over Time')\n",
        "    ax1.grid(True, which='both', linestyle='--', linewidth=0.5)\n",
        "    max_close = company_data['Close'].max()\n",
        "    min_close = company_data['Close'].min()\n",
        "    ax1.annotate(f'Max: {max_close}', xy=(company_data['Date'][company_data['Close'].idxmax()], max_close),\n",
        "                 xytext=(20,30), textcoords=\"offset points\",\n",
        "                 arrowprops=dict(arrowstyle=\"->\", lw=1.5),\n",
        "                 fontsize=9, color='#1f77b4')\n",
        "    ax1.annotate(f'Min: {min_close}', xy=(company_data['Date'][company_data['Close'].idxmin()], min_close),\n",
        "                 xytext=(20,-30), textcoords=\"offset points\",\n",
        "                 arrowprops=dict(arrowstyle=\"->\", lw=1.5),\n",
        "                 fontsize=9, color='#1f77b4')\n",
        "\n",
        "    ax1.xaxis.set_major_locator(mdates.YearLocator())\n",
        "    ax1.xaxis.set_major_formatter(mdates.DateFormatter('%Y'))\n",
        "    ax1.xaxis.set_minor_locator(mdates.MonthLocator())\n",
        "\n",
        "    ax2 = ax1.twinx()\n",
        "    ax2.bar(company_data['Date'], company_data['Volume'], color='#2ca02c', alpha=0.3, label='Trading Volume')\n",
        "    ax2.set_ylabel('Volume', color='#2ca02c')\n",
        "    ax2.tick_params(axis='y', labelcolor='#2ca02c')\n",
        "\n",
        "    lines, labels = ax1.get_legend_handles_labels()\n",
        "    lines2, labels2 = ax2.get_legend_handles_labels()\n",
        "    ax2.legend(lines + lines2, labels + labels2, loc='upper left')\n",
        "\n",
        "    plt.tight_layout()\n",
        "    plt.show()"
      ]
    },
    {
      "cell_type": "code",
      "execution_count": null,
      "metadata": {
        "id": "RprucxKY3sHG"
      },
      "outputs": [],
      "source": [
        "ticker_modified_symbol = []\n",
        "\n",
        "for file in all_files:\n",
        "    if file.endswith(\".csv\"):\n",
        "        ticker_modified_symbol.append(file.split(\".\")[0])\n"
      ]
    },
    {
      "cell_type": "code",
      "execution_count": null,
      "metadata": {
        "id": "_h24VZ-S3sHG"
      },
      "outputs": [],
      "source": [
        "ticker_dropdown = widgets.Dropdown(\n",
        "    options=ticker_modified_symbol,\n",
        "    value='AAPL',\n",
        "    description='Company:',\n",
        "    disabled=False\n",
        ")"
      ]
    },
    {
      "cell_type": "code",
      "execution_count": null,
      "metadata": {
        "colab": {
          "referenced_widgets": [
            "7a09c5d2691d404393e19bedf3bead3b"
          ]
        },
        "id": "y--j5dpR3sHG",
        "outputId": "85352d4c-02a9-4962-d212-819fbbd71204"
      },
      "outputs": [
        {
          "data": {
            "application/vnd.jupyter.widget-view+json": {
              "model_id": "7a09c5d2691d404393e19bedf3bead3b",
              "version_major": 2,
              "version_minor": 0
            },
            "text/plain": [
              "interactive(children=(Dropdown(description='Company:', index=3, options=('A', 'AAL', 'AAP', 'AAPL', 'ABBV', 'A…"
            ]
          },
          "metadata": {},
          "output_type": "display_data"
        }
      ],
      "source": [
        "widgets.interactive(plot_company_data, ticker=ticker_dropdown)"
      ]
    },
    {
      "cell_type": "markdown",
      "metadata": {
        "id": "daZEsTf23sHG"
      },
      "source": [
        "# Predicting the Future Data"
      ]
    },
    {
      "cell_type": "markdown",
      "metadata": {
        "id": "gkcLEr8I3sHG"
      },
      "source": [
        "## Checking if the heriustic rough set approach working fine or not"
      ]
    },
    {
      "cell_type": "code",
      "execution_count": null,
      "metadata": {
        "id": "PJWPlUOq3sHG",
        "outputId": "806fa4f5-baf6-4810-a8cf-05f62a436bd2"
      },
      "outputs": [
        {
          "data": {
            "text/html": [
              "<div>\n",
              "<style scoped>\n",
              "    .dataframe tbody tr th:only-of-type {\n",
              "        vertical-align: middle;\n",
              "    }\n",
              "\n",
              "    .dataframe tbody tr th {\n",
              "        vertical-align: top;\n",
              "    }\n",
              "\n",
              "    .dataframe thead th {\n",
              "        text-align: right;\n",
              "    }\n",
              "</style>\n",
              "<table border=\"1\" class=\"dataframe\">\n",
              "  <thead>\n",
              "    <tr style=\"text-align: right;\">\n",
              "      <th></th>\n",
              "      <th>Date</th>\n",
              "      <th>Close</th>\n",
              "      <th>Volume</th>\n",
              "    </tr>\n",
              "  </thead>\n",
              "  <tbody>\n",
              "    <tr>\n",
              "      <th>0</th>\n",
              "      <td>04/01/2010</td>\n",
              "      <td>28.915880</td>\n",
              "      <td>1876000</td>\n",
              "    </tr>\n",
              "    <tr>\n",
              "      <th>1</th>\n",
              "      <td>05/01/2010</td>\n",
              "      <td>28.994598</td>\n",
              "      <td>2186900</td>\n",
              "    </tr>\n",
              "    <tr>\n",
              "      <th>2</th>\n",
              "      <td>06/01/2010</td>\n",
              "      <td>28.819681</td>\n",
              "      <td>1147200</td>\n",
              "    </tr>\n",
              "    <tr>\n",
              "      <th>3</th>\n",
              "      <td>07/01/2010</td>\n",
              "      <td>28.933376</td>\n",
              "      <td>1272400</td>\n",
              "    </tr>\n",
              "    <tr>\n",
              "      <th>4</th>\n",
              "      <td>08/01/2010</td>\n",
              "      <td>29.773031</td>\n",
              "      <td>2068200</td>\n",
              "    </tr>\n",
              "  </tbody>\n",
              "</table>\n",
              "</div>"
            ],
            "text/plain": [
              "         Date      Close   Volume\n",
              "0  04/01/2010  28.915880  1876000\n",
              "1  05/01/2010  28.994598  2186900\n",
              "2  06/01/2010  28.819681  1147200\n",
              "3  07/01/2010  28.933376  1272400\n",
              "4  08/01/2010  29.773031  2068200"
            ]
          },
          "execution_count": 157,
          "metadata": {},
          "output_type": "execute_result"
        }
      ],
      "source": [
        "apple_data = pd.read_csv(os.path.join('companies_data', \"AAPL.csv\"))\n",
        "apple_data.head()"
      ]
    },
    {
      "cell_type": "code",
      "execution_count": null,
      "metadata": {
        "id": "6sKj1boz3sHG",
        "outputId": "66dbba67-32a5-4e73-ea96-ad6fdbe0db7b"
      },
      "outputs": [
        {
          "data": {
            "text/html": [
              "<div>\n",
              "<style scoped>\n",
              "    .dataframe tbody tr th:only-of-type {\n",
              "        vertical-align: middle;\n",
              "    }\n",
              "\n",
              "    .dataframe tbody tr th {\n",
              "        vertical-align: top;\n",
              "    }\n",
              "\n",
              "    .dataframe thead th {\n",
              "        text-align: right;\n",
              "    }\n",
              "</style>\n",
              "<table border=\"1\" class=\"dataframe\">\n",
              "  <thead>\n",
              "    <tr style=\"text-align: right;\">\n",
              "      <th></th>\n",
              "      <th>Date</th>\n",
              "      <th>Close</th>\n",
              "      <th>Volume</th>\n",
              "    </tr>\n",
              "  </thead>\n",
              "  <tbody>\n",
              "    <tr>\n",
              "      <th>0</th>\n",
              "      <td>04/01/2010</td>\n",
              "      <td>0.0</td>\n",
              "      <td>9.0</td>\n",
              "    </tr>\n",
              "    <tr>\n",
              "      <th>1</th>\n",
              "      <td>05/01/2010</td>\n",
              "      <td>0.0</td>\n",
              "      <td>9.0</td>\n",
              "    </tr>\n",
              "    <tr>\n",
              "      <th>2</th>\n",
              "      <td>06/01/2010</td>\n",
              "      <td>0.0</td>\n",
              "      <td>7.0</td>\n",
              "    </tr>\n",
              "    <tr>\n",
              "      <th>3</th>\n",
              "      <td>07/01/2010</td>\n",
              "      <td>0.0</td>\n",
              "      <td>8.0</td>\n",
              "    </tr>\n",
              "    <tr>\n",
              "      <th>4</th>\n",
              "      <td>08/01/2010</td>\n",
              "      <td>0.0</td>\n",
              "      <td>9.0</td>\n",
              "    </tr>\n",
              "  </tbody>\n",
              "</table>\n",
              "</div>"
            ],
            "text/plain": [
              "         Date  Close  Volume\n",
              "0  04/01/2010    0.0     9.0\n",
              "1  05/01/2010    0.0     9.0\n",
              "2  06/01/2010    0.0     7.0\n",
              "3  07/01/2010    0.0     8.0\n",
              "4  08/01/2010    0.0     9.0"
            ]
          },
          "execution_count": 158,
          "metadata": {},
          "output_type": "execute_result"
        }
      ],
      "source": [
        "n_bins = 10\n",
        "discretizer = KBinsDiscretizer(n_bins=n_bins, encode='ordinal', strategy='quantile')\n",
        "apple_data[['Close', 'Volume']] = discretizer.fit_transform(apple_data[['Close', 'Volume']])\n",
        "\n",
        "apple_data.head()"
      ]
    },
    {
      "cell_type": "code",
      "execution_count": null,
      "metadata": {
        "id": "WbJD8Gv_3sHG"
      },
      "outputs": [],
      "source": [
        "def create_lagged_features(df, lag_count=3):\n",
        "    df_lagged = df.copy()\n",
        "    for i in range(1, lag_count + 1):\n",
        "        df_lagged[f\"Close_Lag_{i}\"] = df_lagged[\"Close\"].shift(i)\n",
        "        df_lagged[f\"Volume_Lag_{i}\"] = df_lagged[\"Volume\"].shift(i)\n",
        "    return df_lagged.dropna().reset_index(drop=True)"
      ]
    },
    {
      "cell_type": "code",
      "execution_count": null,
      "metadata": {
        "id": "sf0ssNtf3sHG",
        "outputId": "4f7fcbda-5044-4e4d-a799-69d046a673bf"
      },
      "outputs": [
        {
          "data": {
            "text/html": [
              "<div>\n",
              "<style scoped>\n",
              "    .dataframe tbody tr th:only-of-type {\n",
              "        vertical-align: middle;\n",
              "    }\n",
              "\n",
              "    .dataframe tbody tr th {\n",
              "        vertical-align: top;\n",
              "    }\n",
              "\n",
              "    .dataframe thead th {\n",
              "        text-align: right;\n",
              "    }\n",
              "</style>\n",
              "<table border=\"1\" class=\"dataframe\">\n",
              "  <thead>\n",
              "    <tr style=\"text-align: right;\">\n",
              "      <th></th>\n",
              "      <th>Date</th>\n",
              "      <th>Close</th>\n",
              "      <th>Volume</th>\n",
              "      <th>Close_Lag_1</th>\n",
              "      <th>Volume_Lag_1</th>\n",
              "      <th>Close_Lag_2</th>\n",
              "      <th>Volume_Lag_2</th>\n",
              "      <th>Close_Lag_3</th>\n",
              "      <th>Volume_Lag_3</th>\n",
              "    </tr>\n",
              "  </thead>\n",
              "  <tbody>\n",
              "    <tr>\n",
              "      <th>0</th>\n",
              "      <td>07/01/2010</td>\n",
              "      <td>0.0</td>\n",
              "      <td>8.0</td>\n",
              "      <td>0.0</td>\n",
              "      <td>7.0</td>\n",
              "      <td>0.0</td>\n",
              "      <td>9.0</td>\n",
              "      <td>0.0</td>\n",
              "      <td>9.0</td>\n",
              "    </tr>\n",
              "    <tr>\n",
              "      <th>1</th>\n",
              "      <td>08/01/2010</td>\n",
              "      <td>0.0</td>\n",
              "      <td>9.0</td>\n",
              "      <td>0.0</td>\n",
              "      <td>8.0</td>\n",
              "      <td>0.0</td>\n",
              "      <td>7.0</td>\n",
              "      <td>0.0</td>\n",
              "      <td>9.0</td>\n",
              "    </tr>\n",
              "    <tr>\n",
              "      <th>2</th>\n",
              "      <td>11/01/2010</td>\n",
              "      <td>0.0</td>\n",
              "      <td>9.0</td>\n",
              "      <td>0.0</td>\n",
              "      <td>9.0</td>\n",
              "      <td>0.0</td>\n",
              "      <td>8.0</td>\n",
              "      <td>0.0</td>\n",
              "      <td>7.0</td>\n",
              "    </tr>\n",
              "    <tr>\n",
              "      <th>3</th>\n",
              "      <td>12/01/2010</td>\n",
              "      <td>0.0</td>\n",
              "      <td>8.0</td>\n",
              "      <td>0.0</td>\n",
              "      <td>9.0</td>\n",
              "      <td>0.0</td>\n",
              "      <td>9.0</td>\n",
              "      <td>0.0</td>\n",
              "      <td>8.0</td>\n",
              "    </tr>\n",
              "    <tr>\n",
              "      <th>4</th>\n",
              "      <td>13/01/2010</td>\n",
              "      <td>0.0</td>\n",
              "      <td>8.0</td>\n",
              "      <td>0.0</td>\n",
              "      <td>8.0</td>\n",
              "      <td>0.0</td>\n",
              "      <td>9.0</td>\n",
              "      <td>0.0</td>\n",
              "      <td>9.0</td>\n",
              "    </tr>\n",
              "  </tbody>\n",
              "</table>\n",
              "</div>"
            ],
            "text/plain": [
              "         Date  Close  Volume  Close_Lag_1  Volume_Lag_1  Close_Lag_2  \\\n",
              "0  07/01/2010    0.0     8.0          0.0           7.0          0.0   \n",
              "1  08/01/2010    0.0     9.0          0.0           8.0          0.0   \n",
              "2  11/01/2010    0.0     9.0          0.0           9.0          0.0   \n",
              "3  12/01/2010    0.0     8.0          0.0           9.0          0.0   \n",
              "4  13/01/2010    0.0     8.0          0.0           8.0          0.0   \n",
              "\n",
              "   Volume_Lag_2  Close_Lag_3  Volume_Lag_3  \n",
              "0           9.0          0.0           9.0  \n",
              "1           7.0          0.0           9.0  \n",
              "2           8.0          0.0           7.0  \n",
              "3           9.0          0.0           8.0  \n",
              "4           9.0          0.0           9.0  "
            ]
          },
          "execution_count": 160,
          "metadata": {},
          "output_type": "execute_result"
        }
      ],
      "source": [
        "lag_count = 3\n",
        "apple_data_lagged = create_lagged_features(apple_data, lag_count)\n",
        "apple_data_lagged.head()\n"
      ]
    },
    {
      "cell_type": "code",
      "execution_count": null,
      "metadata": {
        "id": "FriPJOXT3sHG",
        "outputId": "2b42faf3-3fe7-4fd1-9e99-270305a82c02"
      },
      "outputs": [
        {
          "data": {
            "text/html": [
              "<div>\n",
              "<style scoped>\n",
              "    .dataframe tbody tr th:only-of-type {\n",
              "        vertical-align: middle;\n",
              "    }\n",
              "\n",
              "    .dataframe tbody tr th {\n",
              "        vertical-align: top;\n",
              "    }\n",
              "\n",
              "    .dataframe thead th {\n",
              "        text-align: right;\n",
              "    }\n",
              "</style>\n",
              "<table border=\"1\" class=\"dataframe\">\n",
              "  <thead>\n",
              "    <tr style=\"text-align: right;\">\n",
              "      <th></th>\n",
              "      <th>0</th>\n",
              "      <th>1</th>\n",
              "      <th>2</th>\n",
              "      <th>3</th>\n",
              "      <th>4</th>\n",
              "      <th>5</th>\n",
              "      <th>6</th>\n",
              "      <th>7</th>\n",
              "      <th>8</th>\n",
              "      <th>9</th>\n",
              "    </tr>\n",
              "  </thead>\n",
              "  <tbody>\n",
              "    <tr>\n",
              "      <th>0</th>\n",
              "      <td>0.964706</td>\n",
              "      <td>0.035294</td>\n",
              "      <td>0.000000</td>\n",
              "      <td>0.000000</td>\n",
              "      <td>0.000000</td>\n",
              "      <td>0.000000</td>\n",
              "      <td>0.000000</td>\n",
              "      <td>0.000000</td>\n",
              "      <td>0.000000</td>\n",
              "      <td>0.000000</td>\n",
              "    </tr>\n",
              "    <tr>\n",
              "      <th>1</th>\n",
              "      <td>0.032353</td>\n",
              "      <td>0.950000</td>\n",
              "      <td>0.017647</td>\n",
              "      <td>0.000000</td>\n",
              "      <td>0.000000</td>\n",
              "      <td>0.000000</td>\n",
              "      <td>0.000000</td>\n",
              "      <td>0.000000</td>\n",
              "      <td>0.000000</td>\n",
              "      <td>0.000000</td>\n",
              "    </tr>\n",
              "    <tr>\n",
              "      <th>2</th>\n",
              "      <td>0.000000</td>\n",
              "      <td>0.014706</td>\n",
              "      <td>0.905882</td>\n",
              "      <td>0.079412</td>\n",
              "      <td>0.000000</td>\n",
              "      <td>0.000000</td>\n",
              "      <td>0.000000</td>\n",
              "      <td>0.000000</td>\n",
              "      <td>0.000000</td>\n",
              "      <td>0.000000</td>\n",
              "    </tr>\n",
              "    <tr>\n",
              "      <th>3</th>\n",
              "      <td>0.000000</td>\n",
              "      <td>0.000000</td>\n",
              "      <td>0.076471</td>\n",
              "      <td>0.894118</td>\n",
              "      <td>0.026471</td>\n",
              "      <td>0.002941</td>\n",
              "      <td>0.000000</td>\n",
              "      <td>0.000000</td>\n",
              "      <td>0.000000</td>\n",
              "      <td>0.000000</td>\n",
              "    </tr>\n",
              "    <tr>\n",
              "      <th>4</th>\n",
              "      <td>0.000000</td>\n",
              "      <td>0.000000</td>\n",
              "      <td>0.000000</td>\n",
              "      <td>0.023599</td>\n",
              "      <td>0.941003</td>\n",
              "      <td>0.035398</td>\n",
              "      <td>0.000000</td>\n",
              "      <td>0.000000</td>\n",
              "      <td>0.000000</td>\n",
              "      <td>0.000000</td>\n",
              "    </tr>\n",
              "    <tr>\n",
              "      <th>5</th>\n",
              "      <td>0.000000</td>\n",
              "      <td>0.000000</td>\n",
              "      <td>0.000000</td>\n",
              "      <td>0.002941</td>\n",
              "      <td>0.032353</td>\n",
              "      <td>0.908824</td>\n",
              "      <td>0.055882</td>\n",
              "      <td>0.000000</td>\n",
              "      <td>0.000000</td>\n",
              "      <td>0.000000</td>\n",
              "    </tr>\n",
              "    <tr>\n",
              "      <th>6</th>\n",
              "      <td>0.000000</td>\n",
              "      <td>0.000000</td>\n",
              "      <td>0.000000</td>\n",
              "      <td>0.000000</td>\n",
              "      <td>0.000000</td>\n",
              "      <td>0.052941</td>\n",
              "      <td>0.902941</td>\n",
              "      <td>0.044118</td>\n",
              "      <td>0.000000</td>\n",
              "      <td>0.000000</td>\n",
              "    </tr>\n",
              "    <tr>\n",
              "      <th>7</th>\n",
              "      <td>0.000000</td>\n",
              "      <td>0.000000</td>\n",
              "      <td>0.000000</td>\n",
              "      <td>0.000000</td>\n",
              "      <td>0.000000</td>\n",
              "      <td>0.000000</td>\n",
              "      <td>0.041176</td>\n",
              "      <td>0.935294</td>\n",
              "      <td>0.023529</td>\n",
              "      <td>0.000000</td>\n",
              "    </tr>\n",
              "    <tr>\n",
              "      <th>8</th>\n",
              "      <td>0.000000</td>\n",
              "      <td>0.000000</td>\n",
              "      <td>0.000000</td>\n",
              "      <td>0.000000</td>\n",
              "      <td>0.000000</td>\n",
              "      <td>0.000000</td>\n",
              "      <td>0.000000</td>\n",
              "      <td>0.020588</td>\n",
              "      <td>0.876471</td>\n",
              "      <td>0.102941</td>\n",
              "    </tr>\n",
              "    <tr>\n",
              "      <th>9</th>\n",
              "      <td>0.000000</td>\n",
              "      <td>0.000000</td>\n",
              "      <td>0.000000</td>\n",
              "      <td>0.000000</td>\n",
              "      <td>0.000000</td>\n",
              "      <td>0.000000</td>\n",
              "      <td>0.000000</td>\n",
              "      <td>0.000000</td>\n",
              "      <td>0.100295</td>\n",
              "      <td>0.899705</td>\n",
              "    </tr>\n",
              "  </tbody>\n",
              "</table>\n",
              "</div>"
            ],
            "text/plain": [
              "          0         1         2         3         4         5         6  \\\n",
              "0  0.964706  0.035294  0.000000  0.000000  0.000000  0.000000  0.000000   \n",
              "1  0.032353  0.950000  0.017647  0.000000  0.000000  0.000000  0.000000   \n",
              "2  0.000000  0.014706  0.905882  0.079412  0.000000  0.000000  0.000000   \n",
              "3  0.000000  0.000000  0.076471  0.894118  0.026471  0.002941  0.000000   \n",
              "4  0.000000  0.000000  0.000000  0.023599  0.941003  0.035398  0.000000   \n",
              "5  0.000000  0.000000  0.000000  0.002941  0.032353  0.908824  0.055882   \n",
              "6  0.000000  0.000000  0.000000  0.000000  0.000000  0.052941  0.902941   \n",
              "7  0.000000  0.000000  0.000000  0.000000  0.000000  0.000000  0.041176   \n",
              "8  0.000000  0.000000  0.000000  0.000000  0.000000  0.000000  0.000000   \n",
              "9  0.000000  0.000000  0.000000  0.000000  0.000000  0.000000  0.000000   \n",
              "\n",
              "          7         8         9  \n",
              "0  0.000000  0.000000  0.000000  \n",
              "1  0.000000  0.000000  0.000000  \n",
              "2  0.000000  0.000000  0.000000  \n",
              "3  0.000000  0.000000  0.000000  \n",
              "4  0.000000  0.000000  0.000000  \n",
              "5  0.000000  0.000000  0.000000  \n",
              "6  0.044118  0.000000  0.000000  \n",
              "7  0.935294  0.023529  0.000000  \n",
              "8  0.020588  0.876471  0.102941  \n",
              "9  0.000000  0.100295  0.899705  "
            ]
          },
          "execution_count": 161,
          "metadata": {},
          "output_type": "execute_result"
        }
      ],
      "source": [
        "def get_rules(data, n_bins):\n",
        "    limits = pd.DataFrame(0, index=range(n_bins), columns=range(n_bins))\n",
        "\n",
        "    for i in range(1, len(data)):\n",
        "        prev_bin = int(data.iloc[i-1])\n",
        "        curr_bin = int(data.iloc[i])\n",
        "        limits.at[prev_bin, curr_bin] += 1\n",
        "\n",
        "\n",
        "    limits = limits.div(limits.sum(axis=1), axis=0)\n",
        "    return limits.fillna(0)\n",
        "\n",
        "\n",
        "limits = get_rules(apple_data['Close'], n_bins)\n",
        "\n",
        "limits"
      ]
    },
    {
      "cell_type": "code",
      "execution_count": null,
      "metadata": {
        "id": "SoVW1UpK3sHH",
        "outputId": "6d456019-408b-4fd5-ecec-880fc96b8845"
      },
      "outputs": [
        {
          "data": {
            "text/plain": [
              "[9, 9, 9, 9, 8, 8, 9, 9, 9, 9]"
            ]
          },
          "execution_count": 162,
          "metadata": {},
          "output_type": "execute_result"
        }
      ],
      "source": [
        "def predict_next_bin(current_bin, limits):\n",
        "    return np.random.choice(limits.columns, p=limits.loc[current_bin].values)\n",
        "\n",
        "def generate_predictions(initial_bin, limits, n_days):\n",
        "    predictions = [initial_bin]\n",
        "    for _ in range(n_days):\n",
        "        next_bin = predict_next_bin(predictions[-1], limits)\n",
        "        predictions.append(next_bin)\n",
        "    return predictions\n",
        "\n",
        "\n",
        "n_days = 252 * 5\n",
        "\n",
        "\n",
        "initial_bin = int(apple_data['Close'].iloc[-1])\n",
        "predicted_bins = generate_predictions(initial_bin, limits, n_days)\n",
        "\n",
        "predicted_bins[:10]"
      ]
    },
    {
      "cell_type": "code",
      "execution_count": null,
      "metadata": {
        "id": "WtAQKNrb3sHH",
        "outputId": "cd10dd7d-05a8-4a9a-c0a0-5dc49751cec4"
      },
      "outputs": [
        {
          "data": {
            "text/plain": [
              "[(170.7268402, 215.5666351),\n",
              " (170.7268402, 215.5666351),\n",
              " (170.7268402, 215.5666351),\n",
              " (170.7268402, 215.5666351),\n",
              " (132.30180666, 170.7268402),\n",
              " (132.30180666, 170.7268402),\n",
              " (170.7268402, 215.5666351),\n",
              " (170.7268402, 215.5666351),\n",
              " (170.7268402, 215.5666351),\n",
              " (170.7268402, 215.5666351)]"
            ]
          },
          "execution_count": 163,
          "metadata": {},
          "output_type": "execute_result"
        }
      ],
      "source": [
        "bin_edges = discretizer.bin_edges_[0]\n",
        "predicted_ranges = [(bin_edges[int(bin)], bin_edges[int(bin) + 1]) for bin in predicted_bins[:10]]\n",
        "\n",
        "predicted_ranges"
      ]
    },
    {
      "cell_type": "markdown",
      "metadata": {
        "id": "4frwQboG3sHH"
      },
      "source": [
        "## Moving towards our main dataset"
      ]
    },
    {
      "cell_type": "code",
      "execution_count": null,
      "metadata": {
        "id": "HLcVph9z3sHH",
        "outputId": "263d1919-d265-4cc0-df84-30e76435c8e1"
      },
      "outputs": [
        {
          "data": {
            "text/plain": [
              "['A.csv',\n",
              " 'AAL.csv',\n",
              " 'AAP.csv',\n",
              " 'AAPL.csv',\n",
              " 'ABBV.csv',\n",
              " 'ABC.csv',\n",
              " 'ABT.csv',\n",
              " 'ACGL.csv',\n",
              " 'ACN.csv',\n",
              " 'ADBE.csv',\n",
              " 'ADI.csv',\n",
              " 'ADM.csv',\n",
              " 'ADP.csv',\n",
              " 'ADSK.csv',\n",
              " 'AEE.csv',\n",
              " 'AEP.csv',\n",
              " 'AES.csv',\n",
              " 'AFL.csv',\n",
              " 'AIG.csv',\n",
              " 'AIZ.csv',\n",
              " 'AJG.csv',\n",
              " 'AKAM.csv',\n",
              " 'ALB.csv',\n",
              " 'ALGN.csv',\n",
              " 'ALK.csv',\n",
              " 'ALL.csv',\n",
              " 'ALLE.csv',\n",
              " 'AMAT.csv',\n",
              " 'AMCR.csv',\n",
              " 'AMD.csv',\n",
              " 'AME.csv',\n",
              " 'AMGN.csv',\n",
              " 'AMP.csv',\n",
              " 'AMT.csv',\n",
              " 'AMZN.csv',\n",
              " 'ANET.csv',\n",
              " 'ANSS.csv',\n",
              " 'AON.csv',\n",
              " 'AOS.csv',\n",
              " 'APA.csv',\n",
              " 'APD.csv',\n",
              " 'APH.csv',\n",
              " 'APTV.csv',\n",
              " 'ARE.csv',\n",
              " 'ATO.csv',\n",
              " 'ATVI.csv',\n",
              " 'AVB.csv',\n",
              " 'AVGO.csv',\n",
              " 'AVY.csv',\n",
              " 'AWK.csv',\n",
              " 'AXON.csv',\n",
              " 'AXP.csv',\n",
              " 'AZO.csv',\n",
              " 'BA.csv',\n",
              " 'BAC.csv',\n",
              " 'BALL.csv',\n",
              " 'BAX.csv',\n",
              " 'BBWI.csv',\n",
              " 'BBY.csv',\n",
              " 'BDX.csv',\n",
              " 'BEN.csv',\n",
              " 'BF-B.csv',\n",
              " 'BG.csv',\n",
              " 'BIIB.csv',\n",
              " 'BIO.csv',\n",
              " 'BK.csv',\n",
              " 'BKNG.csv',\n",
              " 'BKR.csv',\n",
              " 'BLK.csv',\n",
              " 'BMY.csv',\n",
              " 'BR.csv',\n",
              " 'BRK-B.csv',\n",
              " 'BRO.csv',\n",
              " 'BSX.csv',\n",
              " 'BWA.csv',\n",
              " 'BXP.csv',\n",
              " 'C.csv',\n",
              " 'CAG.csv',\n",
              " 'CAH.csv',\n",
              " 'CARR.csv',\n",
              " 'CAT.csv',\n",
              " 'CB.csv',\n",
              " 'CBOE.csv',\n",
              " 'CBRE.csv',\n",
              " 'CCI.csv',\n",
              " 'CCL.csv',\n",
              " 'CDAY.csv',\n",
              " 'CDNS.csv',\n",
              " 'CDW.csv',\n",
              " 'CE.csv',\n",
              " 'CEG.csv',\n",
              " 'CF.csv',\n",
              " 'CFG.csv',\n",
              " 'CHD.csv',\n",
              " 'CHRW.csv',\n",
              " 'CHTR.csv',\n",
              " 'CI.csv',\n",
              " 'CINF.csv',\n",
              " 'CL.csv',\n",
              " 'CLX.csv',\n",
              " 'CMA.csv',\n",
              " 'CMCSA.csv',\n",
              " 'CME.csv',\n",
              " 'CMG.csv',\n",
              " 'CMI.csv',\n",
              " 'CMS.csv',\n",
              " 'CNC.csv',\n",
              " 'CNP.csv',\n",
              " 'COF.csv',\n",
              " 'COO.csv',\n",
              " 'COP.csv',\n",
              " 'COST.csv',\n",
              " 'CPB.csv',\n",
              " 'CPRT.csv',\n",
              " 'CPT.csv',\n",
              " 'CRL.csv',\n",
              " 'CRM.csv',\n",
              " 'CSCO.csv',\n",
              " 'CSGP.csv',\n",
              " 'CSX.csv',\n",
              " 'CTAS.csv',\n",
              " 'CTLT.csv',\n",
              " 'CTRA.csv',\n",
              " 'CTSH.csv',\n",
              " 'CTVA.csv',\n",
              " 'CVS.csv',\n",
              " 'CVX.csv',\n",
              " 'CZR.csv',\n",
              " 'D.csv',\n",
              " 'DAL.csv',\n",
              " 'DD.csv',\n",
              " 'DE.csv',\n",
              " 'DFS.csv',\n",
              " 'DG.csv',\n",
              " 'DGX.csv',\n",
              " 'DHI.csv',\n",
              " 'DHR.csv',\n",
              " 'DIS.csv',\n",
              " 'DLR.csv',\n",
              " 'DLTR.csv',\n",
              " 'DOV.csv',\n",
              " 'DOW.csv',\n",
              " 'DPZ.csv',\n",
              " 'DRI.csv',\n",
              " 'DTE.csv',\n",
              " 'DUK.csv',\n",
              " 'DVA.csv',\n",
              " 'DVN.csv',\n",
              " 'DXC.csv',\n",
              " 'DXCM.csv',\n",
              " 'EA.csv',\n",
              " 'EBAY.csv',\n",
              " 'ECL.csv',\n",
              " 'ED.csv',\n",
              " 'EFX.csv',\n",
              " 'EIX.csv',\n",
              " 'EL.csv',\n",
              " 'ELV.csv',\n",
              " 'EMN.csv',\n",
              " 'EMR.csv',\n",
              " 'ENPH.csv',\n",
              " 'EOG.csv',\n",
              " 'EPAM.csv',\n",
              " 'EQIX.csv',\n",
              " 'EQR.csv',\n",
              " 'EQT.csv',\n",
              " 'ES.csv',\n",
              " 'ESS.csv',\n",
              " 'ETN.csv',\n",
              " 'ETR.csv',\n",
              " 'ETSY.csv',\n",
              " 'EVRG.csv',\n",
              " 'EW.csv',\n",
              " 'EXC.csv',\n",
              " 'EXPD.csv',\n",
              " 'EXPE.csv',\n",
              " 'EXR.csv',\n",
              " 'F.csv',\n",
              " 'FANG.csv',\n",
              " 'FAST.csv',\n",
              " 'FCX.csv',\n",
              " 'FDS.csv',\n",
              " 'FDX.csv',\n",
              " 'FE.csv',\n",
              " 'FFIV.csv',\n",
              " 'FI.csv',\n",
              " 'FICO.csv',\n",
              " 'FIS.csv',\n",
              " 'FITB.csv',\n",
              " 'FLT.csv',\n",
              " 'FMC.csv',\n",
              " 'FOX.csv',\n",
              " 'FOXA.csv',\n",
              " 'FRT.csv',\n",
              " 'FSLR.csv',\n",
              " 'FTNT.csv',\n",
              " 'FTV.csv',\n",
              " 'GD.csv',\n",
              " 'GE.csv',\n",
              " 'GEHC.csv',\n",
              " 'GEN.csv',\n",
              " 'GILD.csv',\n",
              " 'GIS.csv',\n",
              " 'GL.csv',\n",
              " 'GLW.csv',\n",
              " 'GM.csv',\n",
              " 'GNRC.csv',\n",
              " 'GOOG.csv',\n",
              " 'GOOGL.csv',\n",
              " 'GPC.csv',\n",
              " 'GPN.csv',\n",
              " 'GRMN.csv',\n",
              " 'GS.csv',\n",
              " 'GWW.csv',\n",
              " 'HAL.csv',\n",
              " 'HAS.csv',\n",
              " 'HBAN.csv',\n",
              " 'HCA.csv',\n",
              " 'HD.csv',\n",
              " 'HES.csv',\n",
              " 'HIG.csv',\n",
              " 'HII.csv',\n",
              " 'HLT.csv',\n",
              " 'HOLX.csv',\n",
              " 'HON.csv',\n",
              " 'HPE.csv',\n",
              " 'HPQ.csv',\n",
              " 'HRL.csv',\n",
              " 'HSIC.csv',\n",
              " 'HST.csv',\n",
              " 'HSY.csv',\n",
              " 'HUM.csv',\n",
              " 'HWM.csv',\n",
              " 'IBM.csv',\n",
              " 'ICE.csv',\n",
              " 'IDXX.csv',\n",
              " 'IEX.csv',\n",
              " 'IFF.csv',\n",
              " 'ILMN.csv',\n",
              " 'INCY.csv',\n",
              " 'INTC.csv',\n",
              " 'INTU.csv',\n",
              " 'INVH.csv',\n",
              " 'IP.csv',\n",
              " 'IPG.csv',\n",
              " 'IQV.csv',\n",
              " 'IR.csv',\n",
              " 'IRM.csv',\n",
              " 'ISRG.csv',\n",
              " 'IT.csv',\n",
              " 'ITW.csv',\n",
              " 'IVZ.csv',\n",
              " 'J.csv',\n",
              " 'JBHT.csv',\n",
              " 'JCI.csv',\n",
              " 'JKHY.csv',\n",
              " 'JNJ.csv',\n",
              " 'JNPR.csv',\n",
              " 'JPM.csv',\n",
              " 'K.csv',\n",
              " 'KDP.csv',\n",
              " 'KEY.csv',\n",
              " 'KEYS.csv',\n",
              " 'KHC.csv',\n",
              " 'KIM.csv',\n",
              " 'KLAC.csv',\n",
              " 'KMB.csv',\n",
              " 'KMI.csv',\n",
              " 'KMX.csv',\n",
              " 'KO.csv',\n",
              " 'KR.csv',\n",
              " 'L.csv',\n",
              " 'LDOS.csv',\n",
              " 'LEN.csv',\n",
              " 'LH.csv',\n",
              " 'LHX.csv',\n",
              " 'LIN.csv',\n",
              " 'LKQ.csv',\n",
              " 'LLY.csv',\n",
              " 'LMT.csv',\n",
              " 'LNC.csv',\n",
              " 'LNT.csv',\n",
              " 'LOW.csv',\n",
              " 'LRCX.csv',\n",
              " 'LUV.csv',\n",
              " 'LVS.csv',\n",
              " 'LW.csv',\n",
              " 'LYB.csv',\n",
              " 'LYV.csv',\n",
              " 'MA.csv',\n",
              " 'MAA.csv',\n",
              " 'MAR.csv',\n",
              " 'MAS.csv',\n",
              " 'MCD.csv',\n",
              " 'MCHP.csv',\n",
              " 'MCK.csv',\n",
              " 'MCO.csv',\n",
              " 'MDLZ.csv',\n",
              " 'MDT.csv',\n",
              " 'MET.csv',\n",
              " 'META.csv',\n",
              " 'MGM.csv',\n",
              " 'MHK.csv',\n",
              " 'MKC.csv',\n",
              " 'MKTX.csv',\n",
              " 'MLM.csv',\n",
              " 'MMC.csv',\n",
              " 'MMM.csv',\n",
              " 'MNST.csv',\n",
              " 'MO.csv',\n",
              " 'MOH.csv',\n",
              " 'MOS.csv',\n",
              " 'MPC.csv',\n",
              " 'MPWR.csv',\n",
              " 'MRK.csv',\n",
              " 'MRNA.csv',\n",
              " 'MRO.csv',\n",
              " 'MS.csv',\n",
              " 'MSCI.csv',\n",
              " 'MSFT.csv',\n",
              " 'MSI.csv',\n",
              " 'MTB.csv',\n",
              " 'MTCH.csv',\n",
              " 'MTD.csv',\n",
              " 'MU.csv',\n",
              " 'NCLH.csv',\n",
              " 'NDAQ.csv',\n",
              " 'NDSN.csv',\n",
              " 'NEE.csv',\n",
              " 'NEM.csv',\n",
              " 'NFLX.csv',\n",
              " 'NI.csv',\n",
              " 'NKE.csv',\n",
              " 'NOC.csv',\n",
              " 'NOW.csv',\n",
              " 'NRG.csv',\n",
              " 'NSC.csv',\n",
              " 'NTAP.csv',\n",
              " 'NTRS.csv',\n",
              " 'NUE.csv',\n",
              " 'NVDA.csv',\n",
              " 'NVR.csv',\n",
              " 'NWL.csv',\n",
              " 'NWS.csv',\n",
              " 'NWSA.csv',\n",
              " 'NXPI.csv',\n",
              " 'O.csv',\n",
              " 'ODFL.csv',\n",
              " 'OGN.csv',\n",
              " 'OKE.csv',\n",
              " 'OMC.csv',\n",
              " 'ON.csv',\n",
              " 'ORCL.csv',\n",
              " 'ORLY.csv',\n",
              " 'OTIS.csv',\n",
              " 'OXY.csv',\n",
              " 'PANW.csv',\n",
              " 'PARA.csv',\n",
              " 'PAYC.csv',\n",
              " 'PAYX.csv',\n",
              " 'PCAR.csv',\n",
              " 'PCG.csv',\n",
              " 'PEAK.csv',\n",
              " 'PEG.csv',\n",
              " 'PEP.csv',\n",
              " 'PFE.csv',\n",
              " 'PFG.csv',\n",
              " 'PG.csv',\n",
              " 'PGR.csv',\n",
              " 'PH.csv',\n",
              " 'PHM.csv',\n",
              " 'PKG.csv',\n",
              " 'PLD.csv',\n",
              " 'PM.csv',\n",
              " 'PNC.csv',\n",
              " 'PNR.csv',\n",
              " 'PNW.csv',\n",
              " 'PODD.csv',\n",
              " 'POOL.csv',\n",
              " 'PPG.csv',\n",
              " 'PPL.csv',\n",
              " 'PRU.csv',\n",
              " 'PSA.csv',\n",
              " 'PSX.csv',\n",
              " 'PTC.csv',\n",
              " 'PWR.csv',\n",
              " 'PXD.csv',\n",
              " 'PYPL.csv',\n",
              " 'QCOM.csv',\n",
              " 'QRVO.csv',\n",
              " 'RCL.csv',\n",
              " 'RE.csv',\n",
              " 'REG.csv',\n",
              " 'REGN.csv',\n",
              " 'RF.csv',\n",
              " 'RHI.csv',\n",
              " 'RJF.csv',\n",
              " 'RL.csv',\n",
              " 'RMD.csv',\n",
              " 'ROK.csv',\n",
              " 'ROL.csv',\n",
              " 'ROP.csv',\n",
              " 'ROST.csv',\n",
              " 'RSG.csv',\n",
              " 'RTX.csv',\n",
              " 'RVTY.csv',\n",
              " 'SBAC.csv',\n",
              " 'SBUX.csv',\n",
              " 'SCHW.csv',\n",
              " 'SEDG.csv',\n",
              " 'SEE.csv',\n",
              " 'SHW.csv',\n",
              " 'SJM.csv',\n",
              " 'SLB.csv',\n",
              " 'SNA.csv',\n",
              " 'SNPS.csv',\n",
              " 'SO.csv',\n",
              " 'SPG.csv',\n",
              " 'SPGI.csv',\n",
              " 'SRE.csv',\n",
              " 'STE.csv',\n",
              " 'STLD.csv',\n",
              " 'STT.csv',\n",
              " 'STX.csv',\n",
              " 'STZ.csv',\n",
              " 'SWK.csv',\n",
              " 'SWKS.csv',\n",
              " 'SYF.csv',\n",
              " 'SYK.csv',\n",
              " 'SYY.csv',\n",
              " 'T.csv',\n",
              " 'TAP.csv',\n",
              " 'TDG.csv',\n",
              " 'TDY.csv',\n",
              " 'TECH.csv',\n",
              " 'TEL.csv',\n",
              " 'TER.csv',\n",
              " 'TFC.csv',\n",
              " 'TFX.csv',\n",
              " 'TGT.csv',\n",
              " 'TJX.csv',\n",
              " 'TMO.csv',\n",
              " 'TMUS.csv',\n",
              " 'TPR.csv',\n",
              " 'TRGP.csv',\n",
              " 'TRMB.csv',\n",
              " 'TROW.csv',\n",
              " 'TRV.csv',\n",
              " 'TSCO.csv',\n",
              " 'TSLA.csv',\n",
              " 'TSN.csv',\n",
              " 'TT.csv',\n",
              " 'TTWO.csv',\n",
              " 'TXN.csv',\n",
              " 'TXT.csv',\n",
              " 'TYL.csv',\n",
              " 'UAL.csv',\n",
              " 'UDR.csv',\n",
              " 'UHS.csv',\n",
              " 'ULTA.csv',\n",
              " 'UNH.csv',\n",
              " 'UNP.csv',\n",
              " 'UPS.csv',\n",
              " 'URI.csv',\n",
              " 'USB.csv',\n",
              " 'V.csv',\n",
              " 'VFC.csv',\n",
              " 'VICI.csv',\n",
              " 'VLO.csv',\n",
              " 'VMC.csv',\n",
              " 'VRSK.csv',\n",
              " 'VRSN.csv',\n",
              " 'VRTX.csv',\n",
              " 'VTR.csv',\n",
              " 'VTRS.csv',\n",
              " 'VZ.csv',\n",
              " 'WAB.csv',\n",
              " 'WAT.csv',\n",
              " 'WBA.csv',\n",
              " 'WBD.csv',\n",
              " 'WDC.csv',\n",
              " 'WEC.csv',\n",
              " 'WELL.csv',\n",
              " 'WFC.csv',\n",
              " 'WHR.csv',\n",
              " 'WM.csv',\n",
              " 'WMB.csv',\n",
              " 'WMT.csv',\n",
              " 'WRB.csv',\n",
              " 'WRK.csv',\n",
              " 'WST.csv',\n",
              " 'WTW.csv',\n",
              " 'WY.csv',\n",
              " 'WYNN.csv',\n",
              " 'XEL.csv',\n",
              " 'XOM.csv',\n",
              " 'XRAY.csv',\n",
              " 'XYL.csv',\n",
              " 'YUM.csv',\n",
              " 'ZBH.csv',\n",
              " 'ZBRA.csv',\n",
              " 'ZION.csv',\n",
              " 'ZTS.csv']"
            ]
          },
          "execution_count": 164,
          "metadata": {},
          "output_type": "execute_result"
        }
      ],
      "source": [
        "data_files = os.listdir('companies_data')\n",
        "data_files"
      ]
    },
    {
      "cell_type": "markdown",
      "metadata": {
        "id": "eMsJa6nG3sHH"
      },
      "source": [
        "Enhanced preprocessing of the data to handle missing or infinite values."
      ]
    },
    {
      "cell_type": "code",
      "execution_count": null,
      "metadata": {
        "id": "VgCfX1303sHH"
      },
      "outputs": [],
      "source": [
        "def enhanced_preprocess_data(df):\n",
        "    df = df.fillna(method='ffill')\n",
        "    df = df.fillna(method='bfill')\n",
        "    for col in ['Close', 'Volume']:\n",
        "        max_finite_value = df[df[col] != np.inf][col].max()\n",
        "        df[col] = df[col].replace(np.inf, max_finite_value)\n",
        "\n",
        "    return df"
      ]
    },
    {
      "cell_type": "markdown",
      "metadata": {
        "id": "3qg13Qzq3sHH"
      },
      "source": [
        "Generate the 1st, 15th, and 29th dates for the next 5 years."
      ]
    },
    {
      "cell_type": "code",
      "execution_count": null,
      "metadata": {
        "id": "JfnVn89W3sHI"
      },
      "outputs": [],
      "source": [
        "def generate_target_dates():\n",
        "    start_date = datetime.now()\n",
        "    end_date = start_date + timedelta(days=5*365)\n",
        "\n",
        "    target_dates = []\n",
        "    current_date = start_date\n",
        "\n",
        "    while current_date <= end_date:\n",
        "        if current_date.day in [4, 5,6,7,8,11,12,13,14,15,19,20,21,22,25,26,27,28,29]:\n",
        "            target_dates.append(current_date.strftime('%Y-%m-%d'))\n",
        "        current_date += timedelta(days=1)\n",
        "\n",
        "    return target_dates\n",
        "\n",
        "target_dates = generate_target_dates()"
      ]
    },
    {
      "cell_type": "code",
      "execution_count": null,
      "metadata": {
        "id": "8pqAeqpv3sHI"
      },
      "outputs": [],
      "source": [
        "def upper_lower_func(data, n_bins):\n",
        "\n",
        "    upper_lower_lim = np.zeros((n_bins, n_bins), dtype=int)\n",
        "\n",
        "    for i in range(1, len(data)):\n",
        "        prev_bin = int(data.iloc[i-1])\n",
        "        curr_bin = int(data.iloc[i])\n",
        "        upper_lower_lim[prev_bin][curr_bin] += 1\n",
        "\n",
        "    with warnings.catch_warnings():\n",
        "        warnings.simplefilter(\"ignore\", category=RuntimeWarning)\n",
        "        upper_lower = upper_lower_lim / upper_lower_lim.sum(axis=1, keepdims=True)\n",
        "\n",
        "    return pd.DataFrame(upper_lower)"
      ]
    },
    {
      "cell_type": "markdown",
      "metadata": {
        "id": "cH1KvGir3sHI"
      },
      "source": [
        "Generate heuristic predictions using upper and lower limit, ensuring the number of predictions matches n_predictions."
      ]
    },
    {
      "cell_type": "code",
      "execution_count": null,
      "metadata": {
        "id": "vOBPCP5A3sHI"
      },
      "outputs": [],
      "source": [
        "def adjusted_generate_predictions(initial_bin, upper_lower, n_predictions):\n",
        "    predicted_bins = [initial_bin]\n",
        "\n",
        "    for i in range(n_predictions - 1):\n",
        "        next_bin_probs = upper_lower.iloc[int(predicted_bins[-1])]\n",
        "        next_bin = np.random.choice(next_bin_probs.index, p=next_bin_probs.values)\n",
        "        predicted_bins.append(next_bin)\n",
        "\n",
        "    while len(predicted_bins) < n_predictions:\n",
        "        predicted_bins.append(predicted_bins[-1])\n",
        "\n",
        "    return predicted_bins[:n_predictions]"
      ]
    },
    {
      "cell_type": "markdown",
      "metadata": {
        "id": "LofeJsMN3sHI"
      },
      "source": [
        "Final process for the company data to generate heuristic predictions for the specified target dates."
      ]
    },
    {
      "cell_type": "code",
      "execution_count": null,
      "metadata": {
        "id": "JbQFKFUb3sHI"
      },
      "outputs": [],
      "source": [
        "def process_company_data_final(file_path, target_dates):\n",
        "\n",
        "\n",
        "    company_data = pd.read_csv(file_path)\n",
        "    company_data = enhanced_preprocess_data(company_data)\n",
        "\n",
        "\n",
        "    company_data[['Close', 'Volume']] = discretizer.transform(company_data[['Close', 'Volume']])\n",
        "\n",
        "\n",
        "    upper_lower_company = upper_lower_func(company_data['Close'], n_bins)\n",
        "\n",
        "\n",
        "    initial_bin = int(company_data['Close'].iloc[-1])\n",
        "    predicted_bins_company = adjusted_generate_predictions(initial_bin, upper_lower_company, len(target_dates))\n",
        "\n",
        "\n",
        "    predicted_ranges_company = [(bin_edges[int(bin)], bin_edges[int(bin) + 1]) for bin in predicted_bins_company]\n",
        "\n",
        "\n",
        "    df_predictions = pd.DataFrame({\n",
        "        'Date': target_dates,\n",
        "        'Predicted_Price_Range': predicted_ranges_company\n",
        "    })\n",
        "    df_predictions['Company'] = os.path.basename(file_path).replace(\".csv\", \"\")\n",
        "\n",
        "    return df_predictions"
      ]
    },
    {
      "cell_type": "markdown",
      "metadata": {
        "id": "4F8reDPF3sHI"
      },
      "source": [
        "Inspecting for the first company"
      ]
    },
    {
      "cell_type": "code",
      "execution_count": null,
      "metadata": {
        "id": "vI7eZlAq3sHI",
        "outputId": "791df177-da6b-4857-f8b3-69a5bb1431ea"
      },
      "outputs": [
        {
          "data": {
            "text/plain": [
              "(1137,\n",
              " 1137,\n",
              "           0         1         2         3         4         5         6  \\\n",
              " 0  0.972635  0.027365  0.000000  0.000000  0.000000  0.000000  0.000000   \n",
              " 1  0.060823  0.937388  0.001789  0.000000  0.000000  0.000000  0.000000   \n",
              " 2  0.000000  0.000000  0.954338  0.045662  0.000000  0.000000  0.000000   \n",
              " 3  0.000000  0.000000  0.134328  0.753731  0.111940  0.000000  0.000000   \n",
              " 4  0.000000  0.000000  0.006452  0.083871  0.877419  0.032258  0.000000   \n",
              " 5  0.000000  0.000000  0.000000  0.000000  0.042553  0.904255  0.053191   \n",
              " 6  0.000000  0.000000  0.000000  0.000000  0.000000  0.047619  0.940476   \n",
              " 7  0.000000  0.000000  0.000000  0.000000  0.000000  0.000000  0.000000   \n",
              " 8  0.000000  0.000000  0.000000  0.000000  0.000000  0.000000  0.000000   \n",
              " 9  0.000000  0.000000  0.000000  0.000000  0.000000  0.000000  0.000000   \n",
              " \n",
              "           7         8         9  \n",
              " 0  0.000000  0.000000  0.000000  \n",
              " 1  0.000000  0.000000  0.000000  \n",
              " 2  0.000000  0.000000  0.000000  \n",
              " 3  0.000000  0.000000  0.000000  \n",
              " 4  0.000000  0.000000  0.000000  \n",
              " 5  0.000000  0.000000  0.000000  \n",
              " 6  0.011905  0.000000  0.000000  \n",
              " 7  0.933555  0.066445  0.000000  \n",
              " 8  0.058997  0.935103  0.005900  \n",
              " 9  0.000000  0.133333  0.866667  )"
            ]
          },
          "execution_count": 170,
          "metadata": {},
          "output_type": "execute_result"
        }
      ],
      "source": [
        "\n",
        "sample_file_path = os.path.join('companies_data', data_files[0])\n",
        "sample_data = pd.read_csv(sample_file_path)\n",
        "sample_data = enhanced_preprocess_data(sample_data)\n",
        "sample_data[['Close', 'Volume']] = discretizer.transform(sample_data[['Close', 'Volume']])\n",
        "upper_lower_sample = upper_lower_func(sample_data['Close'], n_bins)\n",
        "initial_bin_sample = int(sample_data['Close'].iloc[-1])\n",
        "predicted_bins_sample = adjusted_generate_predictions(initial_bin_sample, upper_lower_sample, len(target_dates))\n",
        "\n",
        "len(target_dates), len(predicted_bins_sample), upper_lower_sample\n"
      ]
    },
    {
      "cell_type": "code",
      "execution_count": null,
      "metadata": {
        "id": "1Zdly3f53sHI",
        "outputId": "5e76ca0a-8a8f-4169-a070-8458d098f991"
      },
      "outputs": [
        {
          "data": {
            "text/plain": [
              "Index(['Date', 'Close', 'Volume'], dtype='object')"
            ]
          },
          "execution_count": 171,
          "metadata": {},
          "output_type": "execute_result"
        }
      ],
      "source": [
        "sample_data.columns"
      ]
    },
    {
      "cell_type": "code",
      "execution_count": null,
      "metadata": {
        "id": "35jmmRkj3sHI"
      },
      "outputs": [],
      "source": [
        "\n",
        "df_all_predictions_final = pd.concat([process_company_data_final(os.path.join('companies_data', file), target_dates) for file in data_files])\n"
      ]
    },
    {
      "cell_type": "code",
      "execution_count": null,
      "metadata": {
        "id": "FGOOqOk23sHI"
      },
      "outputs": [],
      "source": [
        "\n",
        "df_pivot = df_all_predictions_final.pivot(index='Date', columns='Company', values='Predicted_Price_Range')\n",
        "df_pivot = df_pivot.reset_index()\n",
        "output_pivot_file_path = \"predicted_forecast.csv\"\n",
        "df_pivot.to_csv(output_pivot_file_path, index=False)"
      ]
    },
    {
      "cell_type": "code",
      "execution_count": null,
      "metadata": {
        "id": "CHt5eF923sHI",
        "outputId": "0cda2b87-cd12-4180-a346-d022f2524449"
      },
      "outputs": [
        {
          "data": {
            "text/plain": [
              "'predicted_forecast.csv'"
            ]
          },
          "execution_count": 174,
          "metadata": {},
          "output_type": "execute_result"
        }
      ],
      "source": [
        "output_pivot_file_path"
      ]
    },
    {
      "cell_type": "code",
      "execution_count": null,
      "metadata": {
        "id": "j1A8QLyS3sHI"
      },
      "outputs": [],
      "source": []
    }
  ],
  "metadata": {
    "kernelspec": {
      "display_name": "base",
      "language": "python",
      "name": "python3"
    },
    "language_info": {
      "codemirror_mode": {
        "name": "ipython",
        "version": 3
      },
      "file_extension": ".py",
      "mimetype": "text/x-python",
      "name": "python",
      "nbconvert_exporter": "python",
      "pygments_lexer": "ipython3",
      "version": "3.10.9"
    },
    "orig_nbformat": 4,
    "colab": {
      "provenance": [],
      "include_colab_link": true
    }
  },
  "nbformat": 4,
  "nbformat_minor": 0
}